{
 "cells": [
  {
   "cell_type": "code",
   "execution_count": 1,
   "id": "072616d8",
   "metadata": {},
   "outputs": [],
   "source": [
    "import numpy as np\n",
    "import pandas as pd\n",
    "\n",
    "import re\n",
    "import pickle\n",
    "\n",
    "from sklearn.model_selection import train_test_split\n",
    "from sklearn.feature_extraction.text import TfidfVectorizer\n",
    "from sklearn.metrics import accuracy_score, confusion_matrix\n",
    "\n",
    "import nltk\n",
    "from nltk.corpus import stopwords\n",
    "from nltk.stem.snowball import SnowballStemmer\n",
    "\n",
    "import matplotlib.pyplot as plt\n",
    "import seaborn as sns\n",
    "import random\n",
    "\n",
    "from sklearn.ensemble import VotingClassifier, RandomForestClassifier\n",
    "from sklearn.linear_model import PassiveAggressiveClassifier, LogisticRegression, RidgeClassifier, SGDClassifier\n",
    "import lightgbm\n",
    "import xgboost\n",
    "# from sklearn.neighbors import KNeighborsClassifier\n",
    "from sklearn.svm import SVC\n",
    "# from sklearn.tree import DecisionTreeClassifier\n",
    "from sklearn.naive_bayes import MultinomialNB\n",
    "\n",
    "SEED = 1"
   ]
  },
  {
   "cell_type": "code",
   "execution_count": 2,
   "id": "82669327",
   "metadata": {},
   "outputs": [],
   "source": [
    "#Read the data\n",
    "dataset = pd.read_csv('OldData_and_newData.csv', usecols=['id', 'article','label'])"
   ]
  },
  {
   "cell_type": "code",
   "execution_count": 3,
   "id": "689dd7c5",
   "metadata": {},
   "outputs": [
    {
     "data": {
      "text/plain": [
       "(1272, 3)"
      ]
     },
     "execution_count": 3,
     "metadata": {},
     "output_type": "execute_result"
    }
   ],
   "source": [
    "#Get shape\n",
    "dataset.shape"
   ]
  },
  {
   "cell_type": "code",
   "execution_count": 4,
   "id": "9c57cec8",
   "metadata": {},
   "outputs": [
    {
     "data": {
      "text/html": [
       "<div>\n",
       "<style scoped>\n",
       "    .dataframe tbody tr th:only-of-type {\n",
       "        vertical-align: middle;\n",
       "    }\n",
       "\n",
       "    .dataframe tbody tr th {\n",
       "        vertical-align: top;\n",
       "    }\n",
       "\n",
       "    .dataframe thead th {\n",
       "        text-align: right;\n",
       "    }\n",
       "</style>\n",
       "<table border=\"1\" class=\"dataframe\">\n",
       "  <thead>\n",
       "    <tr style=\"text-align: right;\">\n",
       "      <th></th>\n",
       "      <th>id</th>\n",
       "      <th>article</th>\n",
       "      <th>label</th>\n",
       "    </tr>\n",
       "  </thead>\n",
       "  <tbody>\n",
       "    <tr>\n",
       "      <th>0</th>\n",
       "      <td>10909</td>\n",
       "      <td>article 7. - le conseil des professeurs il est...</td>\n",
       "      <td>Not Zone</td>\n",
       "    </tr>\n",
       "    <tr>\n",
       "      <th>1</th>\n",
       "      <td>571</td>\n",
       "      <td>article 3. — les ouvrages ou installations son...</td>\n",
       "      <td>Not Zone</td>\n",
       "    </tr>\n",
       "    <tr>\n",
       "      <th>2</th>\n",
       "      <td>10509</td>\n",
       "      <td>article l. 365-1. - la responsabilité civile o...</td>\n",
       "      <td>Not Zone</td>\n",
       "    </tr>\n",
       "    <tr>\n",
       "      <th>3</th>\n",
       "      <td>2572</td>\n",
       "      <td>article 23. le conseil d'administration ne peu...</td>\n",
       "      <td>Not Zone</td>\n",
       "    </tr>\n",
       "    <tr>\n",
       "      <th>4</th>\n",
       "      <td>36</td>\n",
       "      <td>article 14. - sur la base du compte rendu de r...</td>\n",
       "      <td>Not Zone</td>\n",
       "    </tr>\n",
       "  </tbody>\n",
       "</table>\n",
       "</div>"
      ],
      "text/plain": [
       "      id                                            article     label\n",
       "0  10909  article 7. - le conseil des professeurs il est...  Not Zone\n",
       "1    571  article 3. — les ouvrages ou installations son...  Not Zone\n",
       "2  10509  article l. 365-1. - la responsabilité civile o...  Not Zone\n",
       "3   2572  article 23. le conseil d'administration ne peu...  Not Zone\n",
       "4     36  article 14. - sur la base du compte rendu de r...  Not Zone"
      ]
     },
     "execution_count": 4,
     "metadata": {},
     "output_type": "execute_result"
    }
   ],
   "source": [
    "dataset.head()"
   ]
  },
  {
   "cell_type": "code",
   "execution_count": 68,
   "id": "e8b601e4",
   "metadata": {},
   "outputs": [
    {
     "data": {
      "text/plain": [
       "\"article 51. l'alinéa suivant est ajouté à l'article $13 du code judiciaire tel que modifié par la loi du 6 avril 1992 : « les huissiers de justice ayant leurs offices dans les circuits judiciaires d'anvers, de bruges et de furnes sont compétents pour agir sur la mer territoriale visée. dans l'article | de la loi du 6 octobre 1987 fixant la largeur de la mer territoriale de la belgique et dans la zone économique exclusive visée à l'article 2 de la loi du 22 avril 1999 relative à la zone économique exclusive de la belgique en mer du nord.\""
      ]
     },
     "execution_count": 68,
     "metadata": {},
     "output_type": "execute_result"
    }
   ],
   "source": [
    "dataset.iloc[700]['article']"
   ]
  },
  {
   "cell_type": "code",
   "execution_count": 5,
   "id": "060520be",
   "metadata": {},
   "outputs": [
    {
     "name": "stdout",
     "output_type": "stream",
     "text": [
      "(636,)\n",
      "(636,)\n"
     ]
    }
   ],
   "source": [
    "label_0 = dataset[dataset['label']=='Not Zone'].value_counts()\n",
    "print(label_0.shape)\n",
    "\n",
    "label_1 = dataset[dataset['label']=='Zone'].value_counts()\n",
    "print(label_1.shape)"
   ]
  },
  {
   "cell_type": "code",
   "execution_count": 6,
   "id": "d7684d6d",
   "metadata": {},
   "outputs": [
    {
     "data": {
      "text/plain": [
       "(1272, 3)"
      ]
     },
     "execution_count": 6,
     "metadata": {},
     "output_type": "execute_result"
    }
   ],
   "source": [
    "data = dataset.groupby('label', group_keys=False).apply(lambda x: x.sample(dataset.label.value_counts().min()))\n",
    "data.shape"
   ]
  },
  {
   "cell_type": "code",
   "execution_count": 8,
   "id": "fcc27dd4",
   "metadata": {},
   "outputs": [
    {
     "name": "stdout",
     "output_type": "stream",
     "text": [
      "(636,)\n",
      "(636,)\n"
     ]
    }
   ],
   "source": [
    "label_0 = data[data['label']=='Not Zone'].value_counts()\n",
    "print(label_0.shape)\n",
    "\n",
    "label_1 = data[data['label']=='Zone'].value_counts()\n",
    "print(label_1.shape)"
   ]
  },
  {
   "cell_type": "code",
   "execution_count": 10,
   "id": "1507e290",
   "metadata": {},
   "outputs": [
    {
     "data": {
      "text/plain": [
       "array(['Not Zone', 'Zone'], dtype=object)"
      ]
     },
     "execution_count": 10,
     "metadata": {},
     "output_type": "execute_result"
    }
   ],
   "source": [
    "data['label'].unique()"
   ]
  },
  {
   "cell_type": "code",
   "execution_count": 11,
   "id": "078031e7",
   "metadata": {},
   "outputs": [],
   "source": [
    "data = data.dropna()"
   ]
  },
  {
   "cell_type": "code",
   "execution_count": 12,
   "id": "189b2f26",
   "metadata": {},
   "outputs": [
    {
     "data": {
      "text/plain": [
       "array(['Not Zone', 'Zone'], dtype=object)"
      ]
     },
     "execution_count": 12,
     "metadata": {},
     "output_type": "execute_result"
    }
   ],
   "source": [
    "data['label'].unique()"
   ]
  },
  {
   "cell_type": "code",
   "execution_count": 13,
   "id": "1d503237",
   "metadata": {},
   "outputs": [
    {
     "data": {
      "text/plain": [
       "(1272, 3)"
      ]
     },
     "execution_count": 13,
     "metadata": {},
     "output_type": "execute_result"
    }
   ],
   "source": [
    "#Get shape\n",
    "data.shape"
   ]
  },
  {
   "cell_type": "code",
   "execution_count": 14,
   "id": "5e353d78",
   "metadata": {},
   "outputs": [
    {
     "name": "stdout",
     "output_type": "stream",
     "text": [
      "(636,)\n",
      "(636,)\n"
     ]
    }
   ],
   "source": [
    "label_0 = data[data['label']=='Not Zone'].value_counts()\n",
    "print(label_0.shape)\n",
    "\n",
    "label_1 = data[data['label']=='Zone'].value_counts()\n",
    "print(label_1.shape)"
   ]
  },
  {
   "cell_type": "code",
   "execution_count": 15,
   "id": "f68f4843",
   "metadata": {},
   "outputs": [],
   "source": [
    "data.columns = ['id', 'article', 'label']"
   ]
  },
  {
   "cell_type": "markdown",
   "id": "d021f247",
   "metadata": {},
   "source": [
    "# Modeling using ML models:"
   ]
  },
  {
   "cell_type": "code",
   "execution_count": 19,
   "id": "339cf2a7",
   "metadata": {},
   "outputs": [],
   "source": [
    "# def preprocess_text(text: str, remove_stopwords: bool) -> str:\n",
    "def preprocess_text(text):\n",
    "    \"\"\"This utility function sanitizes a string by:\n",
    "    - removing links\n",
    "    - removing special characters\n",
    "    - removing numbers\n",
    "    - removing stopwords\n",
    "    - transforming in lowercase\n",
    "    - removing excessive whitespaces\n",
    "    Args:\n",
    "        text (str): the input text you want to clean\n",
    "        remove_stopwords (bool): whether or not to remove stopwords\n",
    "    Returns:\n",
    "        str: the cleaned text\n",
    "    \"\"\"\n",
    "    \n",
    "    # remove special chars and numbers\n",
    "    text = re.sub(\"[^A-Za-z]+\", \" \", text)\n",
    "    # remove stopwords\n",
    "#     if remove_stopwords:\n",
    "    # 1. tokenize\n",
    "    tokens = nltk.word_tokenize(text)\n",
    "    # 2. check if stopword\n",
    "    tokens = [w for w in tokens if not w.lower() in stopwords.words(\"french\")]\n",
    "    # 3. join back together\n",
    "    text = \" \".join(tokens)\n",
    "    \n",
    "    # return text in lower case and stripped of whitespaces\n",
    "    text = text.lower().strip()\n",
    "    return text"
   ]
  },
  {
   "cell_type": "code",
   "execution_count": 20,
   "id": "0346341d",
   "metadata": {},
   "outputs": [],
   "source": [
    "data_preprocessed = data.copy()"
   ]
  },
  {
   "cell_type": "code",
   "execution_count": 21,
   "id": "df66b197",
   "metadata": {},
   "outputs": [
    {
     "data": {
      "text/html": [
       "<div>\n",
       "<style scoped>\n",
       "    .dataframe tbody tr th:only-of-type {\n",
       "        vertical-align: middle;\n",
       "    }\n",
       "\n",
       "    .dataframe tbody tr th {\n",
       "        vertical-align: top;\n",
       "    }\n",
       "\n",
       "    .dataframe thead th {\n",
       "        text-align: right;\n",
       "    }\n",
       "</style>\n",
       "<table border=\"1\" class=\"dataframe\">\n",
       "  <thead>\n",
       "    <tr style=\"text-align: right;\">\n",
       "      <th></th>\n",
       "      <th>id</th>\n",
       "      <th>article</th>\n",
       "      <th>label</th>\n",
       "    </tr>\n",
       "  </thead>\n",
       "  <tbody>\n",
       "    <tr>\n",
       "      <th>610</th>\n",
       "      <td>10778</td>\n",
       "      <td>article demande cautionnement propri taires na...</td>\n",
       "      <td>Not Zone</td>\n",
       "    </tr>\n",
       "    <tr>\n",
       "      <th>521</th>\n",
       "      <td>241</td>\n",
       "      <td>article exploitations peuvent avoir lieu zones...</td>\n",
       "      <td>Not Zone</td>\n",
       "    </tr>\n",
       "    <tr>\n",
       "      <th>210</th>\n",
       "      <td>662</td>\n",
       "      <td>article limites pare national telles finies da...</td>\n",
       "      <td>Not Zone</td>\n",
       "    </tr>\n",
       "    <tr>\n",
       "      <th>295</th>\n",
       "      <td>28</td>\n",
       "      <td>article extension longitudinale p rim tre urba...</td>\n",
       "      <td>Not Zone</td>\n",
       "    </tr>\n",
       "    <tr>\n",
       "      <th>331</th>\n",
       "      <td>9173</td>\n",
       "      <td>article attributions conseil administration co...</td>\n",
       "      <td>Not Zone</td>\n",
       "    </tr>\n",
       "    <tr>\n",
       "      <th>589</th>\n",
       "      <td>220</td>\n",
       "      <td>article pr sent arr r gle conditions proc dure...</td>\n",
       "      <td>Not Zone</td>\n",
       "    </tr>\n",
       "    <tr>\n",
       "      <th>53</th>\n",
       "      <td>706</td>\n",
       "      <td>article conformit r glementation service envir...</td>\n",
       "      <td>Not Zone</td>\n",
       "    </tr>\n",
       "    <tr>\n",
       "      <th>76</th>\n",
       "      <td>10081</td>\n",
       "      <td>article a int rieur limites circonscription po...</td>\n",
       "      <td>Not Zone</td>\n",
       "    </tr>\n",
       "    <tr>\n",
       "      <th>32</th>\n",
       "      <td>8991</td>\n",
       "      <td>article premier lorsque navire an rada jes eau...</td>\n",
       "      <td>Not Zone</td>\n",
       "    </tr>\n",
       "    <tr>\n",
       "      <th>25</th>\n",
       "      <td>11446</td>\n",
       "      <td>article obligation prendre bord quipements cur...</td>\n",
       "      <td>Not Zone</td>\n",
       "    </tr>\n",
       "  </tbody>\n",
       "</table>\n",
       "</div>"
      ],
      "text/plain": [
       "        id                                            article     label\n",
       "610  10778  article demande cautionnement propri taires na...  Not Zone\n",
       "521    241  article exploitations peuvent avoir lieu zones...  Not Zone\n",
       "210    662  article limites pare national telles finies da...  Not Zone\n",
       "295     28  article extension longitudinale p rim tre urba...  Not Zone\n",
       "331   9173  article attributions conseil administration co...  Not Zone\n",
       "589    220  article pr sent arr r gle conditions proc dure...  Not Zone\n",
       "53     706  article conformit r glementation service envir...  Not Zone\n",
       "76   10081  article a int rieur limites circonscription po...  Not Zone\n",
       "32    8991  article premier lorsque navire an rada jes eau...  Not Zone\n",
       "25   11446  article obligation prendre bord quipements cur...  Not Zone"
      ]
     },
     "execution_count": 21,
     "metadata": {},
     "output_type": "execute_result"
    }
   ],
   "source": [
    "data_preprocessed[\"article\"] = data_preprocessed[\"article\"].apply(preprocess_text)\n",
    "data_preprocessed.head(10)"
   ]
  },
  {
   "cell_type": "code",
   "execution_count": 22,
   "id": "e1aed75e",
   "metadata": {},
   "outputs": [
    {
     "data": {
      "text/plain": [
       "(1272, 3)"
      ]
     },
     "execution_count": 22,
     "metadata": {},
     "output_type": "execute_result"
    }
   ],
   "source": [
    "#Get shape\n",
    "data_preprocessed.shape"
   ]
  },
  {
   "cell_type": "code",
   "execution_count": 23,
   "id": "e8b4adfc",
   "metadata": {
    "scrolled": true
   },
   "outputs": [
    {
     "data": {
      "text/html": [
       "<div>\n",
       "<style scoped>\n",
       "    .dataframe tbody tr th:only-of-type {\n",
       "        vertical-align: middle;\n",
       "    }\n",
       "\n",
       "    .dataframe tbody tr th {\n",
       "        vertical-align: top;\n",
       "    }\n",
       "\n",
       "    .dataframe thead th {\n",
       "        text-align: right;\n",
       "    }\n",
       "</style>\n",
       "<table border=\"1\" class=\"dataframe\">\n",
       "  <thead>\n",
       "    <tr style=\"text-align: right;\">\n",
       "      <th></th>\n",
       "      <th>id</th>\n",
       "      <th>article</th>\n",
       "      <th>label</th>\n",
       "    </tr>\n",
       "  </thead>\n",
       "  <tbody>\n",
       "    <tr>\n",
       "      <th>610</th>\n",
       "      <td>10778</td>\n",
       "      <td>article 4 demande de cautionnement 1 les propr...</td>\n",
       "      <td>Not Zone</td>\n",
       "    </tr>\n",
       "    <tr>\n",
       "      <th>521</th>\n",
       "      <td>241</td>\n",
       "      <td>article 31. les exploitations ne peuvent avoir...</td>\n",
       "      <td>Not Zone</td>\n",
       "    </tr>\n",
       "    <tr>\n",
       "      <th>210</th>\n",
       "      <td>662</td>\n",
       "      <td>article 69.- les limites d'un pare national, t...</td>\n",
       "      <td>Not Zone</td>\n",
       "    </tr>\n",
       "    <tr>\n",
       "      <th>295</th>\n",
       "      <td>28</td>\n",
       "      <td>article 12. — l'extension longitudinale du pér...</td>\n",
       "      <td>Not Zone</td>\n",
       "    </tr>\n",
       "    <tr>\n",
       "      <th>331</th>\n",
       "      <td>9173</td>\n",
       "      <td>article 7: attributions du conseil d'administr...</td>\n",
       "      <td>Not Zone</td>\n",
       "    </tr>\n",
       "    <tr>\n",
       "      <th>589</th>\n",
       "      <td>220</td>\n",
       "      <td>article 2. le présent arrêté règle les conditi...</td>\n",
       "      <td>Not Zone</td>\n",
       "    </tr>\n",
       "    <tr>\n",
       "      <th>53</th>\n",
       "      <td>706</td>\n",
       "      <td>article 49: -10-conformité avec la réglementat...</td>\n",
       "      <td>Not Zone</td>\n",
       "    </tr>\n",
       "    <tr>\n",
       "      <th>76</th>\n",
       "      <td>10081</td>\n",
       "      <td>article 16 : a l'intérieur des limites de sa c...</td>\n",
       "      <td>Not Zone</td>\n",
       "    </tr>\n",
       "    <tr>\n",
       "      <th>32</th>\n",
       "      <td>8991</td>\n",
       "      <td>article premier, — lorsque un navire an rada; ...</td>\n",
       "      <td>Not Zone</td>\n",
       "    </tr>\n",
       "    <tr>\n",
       "      <th>25</th>\n",
       "      <td>11446</td>\n",
       "      <td>article 14 obligation de prendre à bord des éq...</td>\n",
       "      <td>Not Zone</td>\n",
       "    </tr>\n",
       "  </tbody>\n",
       "</table>\n",
       "</div>"
      ],
      "text/plain": [
       "        id                                            article     label\n",
       "610  10778  article 4 demande de cautionnement 1 les propr...  Not Zone\n",
       "521    241  article 31. les exploitations ne peuvent avoir...  Not Zone\n",
       "210    662  article 69.- les limites d'un pare national, t...  Not Zone\n",
       "295     28  article 12. — l'extension longitudinale du pér...  Not Zone\n",
       "331   9173  article 7: attributions du conseil d'administr...  Not Zone\n",
       "589    220  article 2. le présent arrêté règle les conditi...  Not Zone\n",
       "53     706  article 49: -10-conformité avec la réglementat...  Not Zone\n",
       "76   10081  article 16 : a l'intérieur des limites de sa c...  Not Zone\n",
       "32    8991  article premier, — lorsque un navire an rada; ...  Not Zone\n",
       "25   11446  article 14 obligation de prendre à bord des éq...  Not Zone"
      ]
     },
     "execution_count": 23,
     "metadata": {},
     "output_type": "execute_result"
    }
   ],
   "source": [
    "stemmer = SnowballStemmer(\"french\")\n",
    "data_preprocessed['article'] = data_preprocessed['article'].apply(lambda x: ' '.join([stemmer.stem(word) for word in x.split()]))\n",
    "\n",
    "data.head(10)"
   ]
  },
  {
   "cell_type": "code",
   "execution_count": 25,
   "id": "c00433c4",
   "metadata": {},
   "outputs": [
    {
     "name": "stdout",
     "output_type": "stream",
     "text": [
      "articl demand caution propr tair navir envisagent contract pr caution laconf ration doivent adress demand offic f ral approvis nement conom pay ofa demand examin ordred arriv e ofa v rifi si elle compl trait selon prior squ a fix composit flott pr sent demand emprunteur doit prouv satisf dispos tion loi f ral septembr navig maritim concernantl inscript b timent registr navir suiss satisf docu suiv doivent tre joint demand a descript navir ains plan b timent plan g ral plan descapac b justif frais construct acquisit soc propr tair tabl derni bilan annuel emprun teur ains rapport organ r vision nouvel soc bilan ouvertur extrait certif registr commerc ains quel statut soc tableau flux fond pr visionnel tout dur e caution ment sollic e projet contrat pr fais ressort mont dur e cau tion sollic descript affect envisag e navir g descript organis soc propr tair compagnied armement ofa peut frais demandeur exig autr docu fair or don recherch surtout a dout tat navir origin r caution pr t financ navir suiss haut mer fond propr capac organ respons dirig soc propr tair compagn armement demand requ rant doit autoriservopa fair ordon recherch genr aupr tier\n"
     ]
    }
   ],
   "source": [
    "print(data_preprocessed.iloc[0]['article'])"
   ]
  },
  {
   "cell_type": "code",
   "execution_count": 27,
   "id": "0b39e3fe",
   "metadata": {},
   "outputs": [],
   "source": [
    "data_preprocessed['label'] = data_preprocessed['label'].replace('Zone', 1)\n",
    "data_preprocessed['label'] = data_preprocessed['label'].replace('Not Zone', 0)"
   ]
  },
  {
   "cell_type": "code",
   "execution_count": 28,
   "id": "0cae9336",
   "metadata": {},
   "outputs": [
    {
     "data": {
      "text/html": [
       "<div>\n",
       "<style scoped>\n",
       "    .dataframe tbody tr th:only-of-type {\n",
       "        vertical-align: middle;\n",
       "    }\n",
       "\n",
       "    .dataframe tbody tr th {\n",
       "        vertical-align: top;\n",
       "    }\n",
       "\n",
       "    .dataframe thead th {\n",
       "        text-align: right;\n",
       "    }\n",
       "</style>\n",
       "<table border=\"1\" class=\"dataframe\">\n",
       "  <thead>\n",
       "    <tr style=\"text-align: right;\">\n",
       "      <th></th>\n",
       "      <th>id</th>\n",
       "      <th>article</th>\n",
       "      <th>label</th>\n",
       "    </tr>\n",
       "  </thead>\n",
       "  <tbody>\n",
       "    <tr>\n",
       "      <th>610</th>\n",
       "      <td>10778</td>\n",
       "      <td>articl demand caution propr tair navir envisag...</td>\n",
       "      <td>0</td>\n",
       "    </tr>\n",
       "    <tr>\n",
       "      <th>521</th>\n",
       "      <td>241</td>\n",
       "      <td>articl exploit peuvent avoir lieu zon contr se...</td>\n",
       "      <td>0</td>\n",
       "    </tr>\n",
       "    <tr>\n",
       "      <th>210</th>\n",
       "      <td>662</td>\n",
       "      <td>articl limit par national tel fin dat promulg ...</td>\n",
       "      <td>0</td>\n",
       "    </tr>\n",
       "    <tr>\n",
       "      <th>295</th>\n",
       "      <td>28</td>\n",
       "      <td>articl extens longitudinal p rim tre urban agg...</td>\n",
       "      <td>0</td>\n",
       "    </tr>\n",
       "    <tr>\n",
       "      <th>331</th>\n",
       "      <td>9173</td>\n",
       "      <td>articl attribu conseil administr conseil admin...</td>\n",
       "      <td>0</td>\n",
       "    </tr>\n",
       "  </tbody>\n",
       "</table>\n",
       "</div>"
      ],
      "text/plain": [
       "        id                                            article  label\n",
       "610  10778  articl demand caution propr tair navir envisag...      0\n",
       "521    241  articl exploit peuvent avoir lieu zon contr se...      0\n",
       "210    662  articl limit par national tel fin dat promulg ...      0\n",
       "295     28  articl extens longitudinal p rim tre urban agg...      0\n",
       "331   9173  articl attribu conseil administr conseil admin...      0"
      ]
     },
     "execution_count": 28,
     "metadata": {},
     "output_type": "execute_result"
    }
   ],
   "source": [
    "data_preprocessed.head()"
   ]
  },
  {
   "cell_type": "code",
   "execution_count": 31,
   "id": "bb2585ec",
   "metadata": {},
   "outputs": [
    {
     "data": {
      "text/plain": [
       "array([0, 1], dtype=int64)"
      ]
     },
     "execution_count": 31,
     "metadata": {},
     "output_type": "execute_result"
    }
   ],
   "source": [
    "data_preprocessed['label'].unique()"
   ]
  },
  {
   "cell_type": "code",
   "execution_count": 34,
   "id": "711c5adc",
   "metadata": {},
   "outputs": [
    {
     "data": {
      "text/plain": [
       "610    0\n",
       "521    0\n",
       "210    0\n",
       "295    0\n",
       "331    0\n",
       "Name: label, dtype: int64"
      ]
     },
     "execution_count": 34,
     "metadata": {},
     "output_type": "execute_result"
    }
   ],
   "source": [
    "#DataFlair - Get the labels\n",
    "labels = data_preprocessed.label"
   ]
  },
  {
   "cell_type": "code",
   "execution_count": 35,
   "id": "e5e4f70e",
   "metadata": {},
   "outputs": [],
   "source": [
    "#DataFlair - Split the dataset\n",
    "X_train, X_test, y_train, y_test = train_test_split(data_preprocessed['article'], labels, test_size=0.15, stratify=labels)"
   ]
  },
  {
   "cell_type": "code",
   "execution_count": 36,
   "id": "d4603522",
   "metadata": {},
   "outputs": [
    {
     "data": {
      "text/plain": [
       "((1081,), (191,), (1081,), (191,))"
      ]
     },
     "execution_count": 36,
     "metadata": {},
     "output_type": "execute_result"
    }
   ],
   "source": [
    "X_train.shape, X_test.shape, y_train.shape, y_test.shape"
   ]
  },
  {
   "cell_type": "code",
   "execution_count": 39,
   "id": "34d1a40f",
   "metadata": {},
   "outputs": [],
   "source": [
    "#DataFlair - Initialize a TfidfVectorizer\n",
    "tfidf_vectorizer = TfidfVectorizer(max_df=0.8, stop_words=stopwords.words('french'))\n",
    "\n",
    "#DataFlair - Fit and transform train set, transform test set\n",
    "tfidf_train = tfidf_vectorizer.fit_transform(X_train)\n",
    "tfidf_test = tfidf_vectorizer.transform(X_test)"
   ]
  },
  {
   "cell_type": "code",
   "execution_count": 60,
   "id": "16045208",
   "metadata": {},
   "outputs": [],
   "source": [
    "f = open('./tfidf_vectorizer.pkl', 'wb')\n",
    "pickle.dump(tfidf_vectorizer, f)\n",
    "f.close()"
   ]
  },
  {
   "cell_type": "code",
   "execution_count": 40,
   "id": "db0ae6e1",
   "metadata": {},
   "outputs": [
    {
     "name": "stdout",
     "output_type": "stream",
     "text": [
      "Accuracy: 95.29%\n"
     ]
    }
   ],
   "source": [
    "#DataFlair - Initialize a PassiveAggressiveClassifier\n",
    "pac = PassiveAggressiveClassifier(max_iter=50)\n",
    "pac.fit(tfidf_train, y_train)\n",
    "\n",
    "#DataFlair - Predict on the test set and calculate accuracy\n",
    "y_pred = pac.predict(tfidf_test)\n",
    "score = accuracy_score(y_test, y_pred)\n",
    "print(f'Accuracy: {round(score*100, 2)}%')"
   ]
  },
  {
   "cell_type": "code",
   "execution_count": 42,
   "id": "58c909af",
   "metadata": {},
   "outputs": [],
   "source": [
    "lr = LogisticRegression(random_state=SEED)\n",
    "xgb = xgboost.XGBClassifier(random_state=SEED)\n",
    "pac = PassiveAggressiveClassifier(random_state=SEED)##\n",
    "lgb = lightgbm.LGBMClassifier(random_state=SEED)\n",
    "ridge = RidgeClassifier(random_state=SEED)##\n",
    "# knn = KNeighborsClassifier()\n",
    "rfc = RandomForestClassifier(random_state=SEED)\n",
    "svc = SVC(random_state=SEED)##\n",
    "sdgc = SGDClassifier(random_state=SEED)##\n",
    "# dtreec = DecisionTreeClassifier(random_state=SEED)\n",
    "mnnb = MultinomialNB()"
   ]
  },
  {
   "cell_type": "code",
   "execution_count": 43,
   "id": "cfdd2d64",
   "metadata": {},
   "outputs": [],
   "source": [
    "classifiers = [('Logistic Regression', lr),\n",
    "               ('XGBoost CLassifier', xgb),\n",
    "               ('Passive Aggressive Classifier', pac),\n",
    "               ('Light GBM Classifier', lgb),\n",
    "               ('Ridge Classifier', ridge),\n",
    "#                ('KNeighborsClassifier', knn),\n",
    "               ('RandomForestClassifier', rfc),\n",
    "               ('SVC', svc),\n",
    "               ('SGDClassifier', sdgc),\n",
    "#                ('DecisionTreeClassifier', dtreec),\n",
    "               ('MultinomialNB', mnnb)\n",
    "              ]"
   ]
  },
  {
   "cell_type": "code",
   "execution_count": 44,
   "id": "0d3c9936",
   "metadata": {},
   "outputs": [
    {
     "name": "stdout",
     "output_type": "stream",
     "text": [
      "Logistic Regression : 93.72%\n",
      "XGBoost CLassifier : 93.19%\n",
      "Passive Aggressive Classifier : 95.81%\n",
      "Light GBM Classifier : 95.29%\n",
      "Ridge Classifier : 94.76%\n",
      "RandomForestClassifier : 91.1%\n",
      "SVC : 94.24%\n",
      "SGDClassifier : 94.76%\n",
      "MultinomialNB : 92.15%\n"
     ]
    }
   ],
   "source": [
    "for clf_name, clf in classifiers:\n",
    "    #fit clf to the training set\n",
    "    clf.fit(tfidf_train, y_train)\n",
    "    \n",
    "    #Predict the labels of the test set\n",
    "    y_pred = clf.predict(tfidf_test)\n",
    "    \n",
    "    #Evaluate the accuracy of clf on the test set\n",
    "    score = accuracy_score(y_test, y_pred)\n",
    "    print(\"{:s} : {:}%\".format(clf_name, round(score*100, 2)))"
   ]
  },
  {
   "cell_type": "code",
   "execution_count": 62,
   "id": "938428b7",
   "metadata": {},
   "outputs": [
    {
     "name": "stdout",
     "output_type": "stream",
     "text": [
      "Voting Classifier : 95.81%\n"
     ]
    }
   ],
   "source": [
    "vc = VotingClassifier(estimators=classifiers, voting='hard')\n",
    "\n",
    "vc.fit(tfidf_train, y_train)\n",
    "y_pred = vc.predict(tfidf_test)\n",
    "\n",
    "score = accuracy_score(y_test, y_pred)\n",
    "print(\"Voting Classifier : {:}%\".format(round(score*100, 2)))"
   ]
  },
  {
   "cell_type": "code",
   "execution_count": 63,
   "id": "78d0b012",
   "metadata": {},
   "outputs": [],
   "source": [
    "import joblib\n",
    "\n",
    "# Save the classifier to a file\n",
    "joblib.dump(vc, 'Classifier_Zone_Not_Zone.pkl')\n",
    "\n",
    "# Load the classifier from the file\n",
    "voting_clf = joblib.load('Classifier_Zone_Not_Zone.pkl')"
   ]
  },
  {
   "cell_type": "code",
   "execution_count": 54,
   "id": "414f6346",
   "metadata": {},
   "outputs": [],
   "source": [
    "name = \"model_95.81\""
   ]
  },
  {
   "cell_type": "code",
   "execution_count": 55,
   "id": "755ada18",
   "metadata": {},
   "outputs": [],
   "source": [
    "f = open('./'+name+'.pkl', 'wb')\n",
    "pickle.dump(vc, f)\n",
    "f.close()\n",
    "# vc. save('./models/'+name)"
   ]
  },
  {
   "cell_type": "code",
   "execution_count": 56,
   "id": "eba5d241",
   "metadata": {},
   "outputs": [],
   "source": [
    "f = open('./'+name+'.pkl', 'rb')\n",
    "classifier = pickle.load(f)\n",
    "f.close()"
   ]
  },
  {
   "cell_type": "code",
   "execution_count": 57,
   "id": "87bc15d6",
   "metadata": {},
   "outputs": [
    {
     "name": "stdout",
     "output_type": "stream",
     "text": [
      "Voting Classifier : 95.81%\n"
     ]
    }
   ],
   "source": [
    "y_pred = classifier.predict(tfidf_test)\n",
    "\n",
    "score = accuracy_score(y_test, y_pred)\n",
    "print(\"Voting Classifier : {:}%\".format(round(score*100, 2)))"
   ]
  },
  {
   "cell_type": "markdown",
   "id": "37794840",
   "metadata": {},
   "source": [
    "# Test:"
   ]
  },
  {
   "cell_type": "code",
   "execution_count": 46,
   "id": "b348a371",
   "metadata": {},
   "outputs": [
    {
     "name": "stdout",
     "output_type": "stream",
     "text": [
      "[[93  2]\n",
      " [ 6 90]]\n"
     ]
    }
   ],
   "source": [
    "#DataFlair - Build confusion matrix\n",
    "cf_matrix = confusion_matrix(y_test, y_pred)\n",
    "print(cf_matrix)"
   ]
  },
  {
   "cell_type": "code",
   "execution_count": 47,
   "id": "1265df67",
   "metadata": {},
   "outputs": [
    {
     "name": "stdout",
     "output_type": "stream",
     "text": [
      "0    95\n",
      "Name: label, dtype: int64\n",
      "1    96\n",
      "Name: label, dtype: int64\n"
     ]
    }
   ],
   "source": [
    "label_0 = y_test[y_test==0].value_counts()\n",
    "print(label_0)\n",
    "\n",
    "label_1 = y_test[y_test==1].value_counts()\n",
    "print(label_1)"
   ]
  },
  {
   "cell_type": "code",
   "execution_count": 48,
   "id": "b4813671",
   "metadata": {},
   "outputs": [
    {
     "data": {
      "image/png": "[encoded data removed]",
      "text/plain": [
       "<Figure size 432x288 with 1 Axes>"
      ]
     },
     "metadata": {
      "needs_background": "light"
     },
     "output_type": "display_data"
    }
   ],
   "source": [
    "group_names = ['Not Zone predicted Not Zone', 'Not Zone predicted Zone', 'Zone predicted Not Zone', 'Zone predicted Zone']\n",
    "group_counts = ['{0:0.0f}'.format(value) for value in cf_matrix.flatten()]\n",
    "group_percentages = ['{0:.2%}'.format(value) for value in cf_matrix.flatten()/np.sum(cf_matrix)]\n",
    "labels = [f'{v1}\\n{v2}\\n{v3}' for v1, v2, v3 in zip(group_names, group_counts, group_percentages)]\n",
    "labels = np.asarray(labels).reshape(2,2)\n",
    "\n",
    "sns.heatmap(cf_matrix, annot=labels, fmt='', cmap='Blues', cbar=False);"
   ]
  },
  {
   "cell_type": "code",
   "execution_count": 49,
   "id": "6a6072d8",
   "metadata": {},
   "outputs": [
    {
     "data": {
      "image/png": "[encoded data removed]",
      "text/plain": [
       "<Figure size 360x360 with 1 Axes>"
      ]
     },
     "metadata": {
      "needs_background": "light"
     },
     "output_type": "display_data"
    }
   ],
   "source": [
    "group_names = ['Not Zone predicted Not Zone', 'Not Zone predicted Zone', 'Zone predicted Not Zone', 'Zone predicted Zone']\n",
    "group_counts = ['{0:0.0f}'.format(value) for value in cf_matrix.flatten()]\n",
    "group_percentages = ['{0:.2%}'.format(value) for value in cf_matrix.flatten()/np.sum(cf_matrix)]\n",
    "labels = [f'{v1}\\n{v2}\\n{v3}' for v1, v2, v3 in zip(group_names, group_counts, group_percentages)]\n",
    "labels = np.asarray(labels).reshape(2,2)\n",
    "\n",
    "fig, ax = plt.subplots(figsize=(5,5));\n",
    "sns.heatmap(cf_matrix, annot=labels, fmt='', xticklabels=['Not Zone', 'Zone'], yticklabels=['Not Zone', 'Zone'], cbar=False);\n",
    "plt.ylabel('Actual');\n",
    "plt.xlabel('Predicted');"
   ]
  },
  {
   "cell_type": "code",
   "execution_count": 50,
   "id": "27c226d7",
   "metadata": {},
   "outputs": [],
   "source": [
    "def test_model(model, article):\n",
    "    article_preprocessed = preprocess_text(article)\n",
    "    article_preprocessed_1 = ' '.join([stemmer.stem(word) for word in article_preprocessed.split()])\n",
    "    tfidf_article = tfidf_vectorizer.transform([article_preprocessed_1])\n",
    "    prediction = model.predict(tfidf_article)\n",
    "    if prediction[0] == 1:\n",
    "        return 'Zone'\n",
    "    return 'Not Zone'"
   ]
  },
  {
   "cell_type": "code",
   "execution_count": 51,
   "id": "8b6a8d5e",
   "metadata": {},
   "outputs": [],
   "source": [
    "# for i, j in zip(X_test, y_test):\n",
    "#     if (test_model(vc, i)=='Zone' and j==0):\n",
    "#         idx = data_preprocessed[data_preprocessed['article']==i]['id'].values[0]\n",
    "#         print(\"====\", idx, \"====\")\n",
    "#         print(data[data['id']==idx]['article'].values[0])\n",
    "#         print(\"/\\/\\/\\/\\/\\/\\/\\/\\/\\/\\/\\/\\/\\/\\/\\/\\/\\/\\/\\/\\/\\/\\/\\/\\/\\/\\/\\/\\/\\/\\/\")"
   ]
  },
  {
   "cell_type": "code",
   "execution_count": 52,
   "id": "b0d87b8a",
   "metadata": {},
   "outputs": [
    {
     "data": {
      "text/plain": [
       "'\\n    Not Zone predicted Zone\\n    1 try) 116 - 325 - 114\\n    2 try) 386 - 765 - 308 - 146\\n    3 try) 114 - 146\\n    4 try) 325 - 114 - 308 - 977 - 271 - 112 - 83 - 763 - 661 - 891\\n    5 try) 112 - 781 - 763 - 114\\n    6 try) 271 - 112 - 308 - 351 - 325 - 1131 - 386 - 763 - 83 - 146\\n    7 try) 146 - 114\\n    8 try) 1038 - 661 - 146 - 386 - 659\\n'"
      ]
     },
     "execution_count": 52,
     "metadata": {},
     "output_type": "execute_result"
    }
   ],
   "source": [
    "\"\"\"\n",
    "    Not Zone predicted Zone\n",
    "    1 try) 116 - 325 - 114\n",
    "    2 try) 386 - 765 - 308 - 146\n",
    "    3 try) 114 - 146\n",
    "    4 try) 325 - 114 - 308 - 977 - 271 - 112 - 83 - 763 - 661 - 891\n",
    "    5 try) 112 - 781 - 763 - 114\n",
    "    6 try) 271 - 112 - 308 - 351 - 325 - 1131 - 386 - 763 - 83 - 146\n",
    "    7 try) 146 - 114\n",
    "    8 try) 1038 - 661 - 146 - 386 - 659\n",
    "\"\"\""
   ]
  },
  {
   "cell_type": "code",
   "execution_count": 53,
   "id": "19bba8f7",
   "metadata": {},
   "outputs": [],
   "source": [
    "# for i, j in zip(X_test, y_test):\n",
    "#     if (test_model(vc, i)=='Not Zone' and j==1):\n",
    "#         idx = data_preprocessed[data_preprocessed['article']==i]['id'].values[0]\n",
    "#         print(\"====\", idx, \"====\")\n",
    "#         print(data[data['id']==idx]['article'].values[0])\n",
    "#         print(\"/\\/\\/\\/\\/\\/\\/\\/\\/\\/\\/\\/\\/\\/\\/\\/\\/\\/\\/\\/\\/\\/\\/\\/\\/\\/\\/\\/\\/\\/\\/\")"
   ]
  },
  {
   "cell_type": "code",
   "execution_count": 54,
   "id": "5eb076c9",
   "metadata": {},
   "outputs": [
    {
     "data": {
      "text/plain": [
       "'\\n    Zone predicted Not Zone\\n    1 try) 261 - 1220 - 38 - 477 - 140 - 179 - 44 - 1040 - 292 - 229 - 528 - 731 - \\n    101 - 665 - 138 - 71 - 92 - 1193 - 257 - 297\\n    2 try) 665 - 98 - 795 - 261 - 95 - 1100 - 226 - 212 - 127 - 1198 - 1196 -\\n    93 - 108 - 528 - 626 - 101 - 1193 - 1087 - 733 - 18 - 382 - 524 - 34\\n    3 try) 212 - 138 - 34 - 528 - 477 - 140 - 1087 - 101 - 44 - 95 - 297 - 292 -\\n    1220 - 71 - 301 - 142 - 1235 - 206 - 172 - 137 - 1198 - 98\\n    4 try) 1040 - 297 - 92 - 94 - 18 - 180 - 477 - 71 - 140 - 382 - 108 - 44 -\\n    229 - 1011 - 101 - 26 - 110 - 142 - 137 - 163 - 179 - 773 - 1198\\n    5 try) 179 - 127 - 301 - 94 - 34 - 370 - 477 - 1198 - 1040 - 38 - 142 - 459 -\\n    297 - 576 - 665 - 283 - 300 - 26\\n    6 try) 139 - 110 - 92 - 472 - 540 - 283 - 626 - 297 - 142 - 1235 - 627 -\\n    1040\\n    7 try) 540 - 297 - 93 - 44 - 172 - 646 - 33 - 212 - 140 - 180 - 95 - 1235 -\\n    517 - 206 - 1087 - 226 - 92 - 390 - 731\\n'"
      ]
     },
     "execution_count": 54,
     "metadata": {},
     "output_type": "execute_result"
    }
   ],
   "source": [
    "\"\"\"\n",
    "    Zone predicted Not Zone\n",
    "    1 try) 261 - 1220 - 38 - 477 - 140 - 179 - 44 - 1040 - 292 - 229 - 528 - 731 - \n",
    "    101 - 665 - 138 - 71 - 92 - 1193 - 257 - 297\n",
    "    2 try) 665 - 98 - 795 - 261 - 95 - 1100 - 226 - 212 - 127 - 1198 - 1196 -\n",
    "    93 - 108 - 528 - 626 - 101 - 1193 - 1087 - 733 - 18 - 382 - 524 - 34\n",
    "    3 try) 212 - 138 - 34 - 528 - 477 - 140 - 1087 - 101 - 44 - 95 - 297 - 292 -\n",
    "    1220 - 71 - 301 - 142 - 1235 - 206 - 172 - 137 - 1198 - 98\n",
    "    4 try) 1040 - 297 - 92 - 94 - 18 - 180 - 477 - 71 - 140 - 382 - 108 - 44 -\n",
    "    229 - 1011 - 101 - 26 - 110 - 142 - 137 - 163 - 179 - 773 - 1198\n",
    "    5 try) 179 - 127 - 301 - 94 - 34 - 370 - 477 - 1198 - 1040 - 38 - 142 - 459 -\n",
    "    297 - 576 - 665 - 283 - 300 - 26\n",
    "    6 try) 139 - 110 - 92 - 472 - 540 - 283 - 626 - 297 - 142 - 1235 - 627 -\n",
    "    1040\n",
    "    7 try) 540 - 297 - 93 - 44 - 172 - 646 - 33 - 212 - 140 - 180 - 95 - 1235 -\n",
    "    517 - 206 - 1087 - 226 - 92 - 390 - 731\n",
    "\"\"\""
   ]
  },
  {
   "cell_type": "markdown",
   "id": "e34348f5",
   "metadata": {},
   "source": [
    "# Active learning:"
   ]
  },
  {
   "cell_type": "code",
   "execution_count": 374,
   "id": "81f381e0",
   "metadata": {},
   "outputs": [],
   "source": [
    "#Read the data\n",
    "unlabeled_data = pd.read_csv('FrArticle.csv', usecols=['Article'])#, usecols=['text','label'])"
   ]
  },
  {
   "cell_type": "code",
   "execution_count": 375,
   "id": "d63c4606",
   "metadata": {},
   "outputs": [
    {
     "data": {
      "text/plain": [
       "(13992, 1)"
      ]
     },
     "execution_count": 375,
     "metadata": {},
     "output_type": "execute_result"
    }
   ],
   "source": [
    "unlabeled_data.shape"
   ]
  },
  {
   "cell_type": "code",
   "execution_count": 376,
   "id": "75fd77c5",
   "metadata": {},
   "outputs": [],
   "source": [
    "unlabeled_data.columns = ['article']"
   ]
  },
  {
   "cell_type": "code",
   "execution_count": 377,
   "id": "e1cf52e3",
   "metadata": {},
   "outputs": [
    {
     "data": {
      "text/html": [
       "<div>\n",
       "<style scoped>\n",
       "    .dataframe tbody tr th:only-of-type {\n",
       "        vertical-align: middle;\n",
       "    }\n",
       "\n",
       "    .dataframe tbody tr th {\n",
       "        vertical-align: top;\n",
       "    }\n",
       "\n",
       "    .dataframe thead th {\n",
       "        text-align: right;\n",
       "    }\n",
       "</style>\n",
       "<table border=\"1\" class=\"dataframe\">\n",
       "  <thead>\n",
       "    <tr style=\"text-align: right;\">\n",
       "      <th></th>\n",
       "      <th>article</th>\n",
       "    </tr>\n",
       "  </thead>\n",
       "  <tbody>\n",
       "    <tr>\n",
       "      <th>0</th>\n",
       "      <td>Article premier La largeur des zones maritimes...</td>\n",
       "    </tr>\n",
       "    <tr>\n",
       "      <th>1</th>\n",
       "      <td>Article 3 Les eaux comprises dans les lignes d...</td>\n",
       "    </tr>\n",
       "    <tr>\n",
       "      <th>2</th>\n",
       "      <td>Article 4 Le présent décret sera publié au Jou...</td>\n",
       "    </tr>\n",
       "    <tr>\n",
       "      <th>3</th>\n",
       "      <td>Article 1: La largeur des eaux territoriales a...</td>\n",
       "    </tr>\n",
       "    <tr>\n",
       "      <th>4</th>\n",
       "      <td>Article 2 : A l’intérieur des eaux territorial...</td>\n",
       "    </tr>\n",
       "  </tbody>\n",
       "</table>\n",
       "</div>"
      ],
      "text/plain": [
       "                                             article\n",
       "0  Article premier La largeur des zones maritimes...\n",
       "1  Article 3 Les eaux comprises dans les lignes d...\n",
       "2  Article 4 Le présent décret sera publié au Jou...\n",
       "3  Article 1: La largeur des eaux territoriales a...\n",
       "4  Article 2 : A l’intérieur des eaux territorial..."
      ]
     },
     "execution_count": 377,
     "metadata": {},
     "output_type": "execute_result"
    }
   ],
   "source": [
    "unlabeled_data.head()"
   ]
  },
  {
   "cell_type": "code",
   "execution_count": 378,
   "id": "7fac5b0e",
   "metadata": {},
   "outputs": [],
   "source": [
    "unlabeled_data['article'] = unlabeled_data['article'].apply(lambda x: \" \".join(x.strip().lower().split()))"
   ]
  },
  {
   "cell_type": "code",
   "execution_count": 379,
   "id": "a7c7e165",
   "metadata": {},
   "outputs": [],
   "source": [
    "data_to_annotate = pd.concat([data.drop(columns=['label', 'id']), unlabeled_data])"
   ]
  },
  {
   "cell_type": "code",
   "execution_count": 380,
   "id": "51bc7d9a",
   "metadata": {},
   "outputs": [
    {
     "data": {
      "text/plain": [
       "(15264, 1)"
      ]
     },
     "execution_count": 380,
     "metadata": {},
     "output_type": "execute_result"
    }
   ],
   "source": [
    "data_to_annotate.shape"
   ]
  },
  {
   "cell_type": "code",
   "execution_count": 381,
   "id": "6df12ead",
   "metadata": {},
   "outputs": [],
   "source": [
    "data_to_annotate.drop_duplicates(keep=False, inplace=True)"
   ]
  },
  {
   "cell_type": "code",
   "execution_count": 382,
   "id": "6cfddb7b",
   "metadata": {},
   "outputs": [
    {
     "data": {
      "text/plain": [
       "(8722, 1)"
      ]
     },
     "execution_count": 382,
     "metadata": {},
     "output_type": "execute_result"
    }
   ],
   "source": [
    "data_to_annotate.shape"
   ]
  },
  {
   "cell_type": "code",
   "execution_count": 383,
   "id": "c073fbe3",
   "metadata": {},
   "outputs": [],
   "source": [
    "data_to_annotate['index'] = data_to_annotate.index"
   ]
  },
  {
   "cell_type": "code",
   "execution_count": 384,
   "id": "171f5930",
   "metadata": {},
   "outputs": [
    {
     "data": {
      "text/html": [
       "<div>\n",
       "<style scoped>\n",
       "    .dataframe tbody tr th:only-of-type {\n",
       "        vertical-align: middle;\n",
       "    }\n",
       "\n",
       "    .dataframe tbody tr th {\n",
       "        vertical-align: top;\n",
       "    }\n",
       "\n",
       "    .dataframe thead th {\n",
       "        text-align: right;\n",
       "    }\n",
       "</style>\n",
       "<table border=\"1\" class=\"dataframe\">\n",
       "  <thead>\n",
       "    <tr style=\"text-align: right;\">\n",
       "      <th></th>\n",
       "      <th>article</th>\n",
       "      <th>index</th>\n",
       "    </tr>\n",
       "  </thead>\n",
       "  <tbody>\n",
       "    <tr>\n",
       "      <th>73</th>\n",
       "      <td>article 1 : aux fins de la présente charte, on...</td>\n",
       "      <td>73</td>\n",
       "    </tr>\n",
       "    <tr>\n",
       "      <th>536</th>\n",
       "      <td>article 9. - les centres régionaux, prévus ci-...</td>\n",
       "      <td>536</td>\n",
       "    </tr>\n",
       "    <tr>\n",
       "      <th>535</th>\n",
       "      <td>article 1. pour l'application du présent arrêt...</td>\n",
       "      <td>535</td>\n",
       "    </tr>\n",
       "    <tr>\n",
       "      <th>571</th>\n",
       "      <td>article 3eût exèrcer 18 pêche’ et la chasse au...</td>\n",
       "      <td>571</td>\n",
       "    </tr>\n",
       "    <tr>\n",
       "      <th>45</th>\n",
       "      <td>article 2. — le premier ministre est chargé de...</td>\n",
       "      <td>45</td>\n",
       "    </tr>\n",
       "  </tbody>\n",
       "</table>\n",
       "</div>"
      ],
      "text/plain": [
       "                                               article  index\n",
       "73   article 1 : aux fins de la présente charte, on...     73\n",
       "536  article 9. - les centres régionaux, prévus ci-...    536\n",
       "535  article 1. pour l'application du présent arrêt...    535\n",
       "571  article 3eût exèrcer 18 pêche’ et la chasse au...    571\n",
       "45   article 2. — le premier ministre est chargé de...     45"
      ]
     },
     "execution_count": 384,
     "metadata": {},
     "output_type": "execute_result"
    }
   ],
   "source": [
    "data_to_annotate.head()"
   ]
  },
  {
   "cell_type": "code",
   "execution_count": 385,
   "id": "6e8f8dcb",
   "metadata": {},
   "outputs": [],
   "source": [
    "data_preprocessed_to_annotate = data_to_annotate.copy()"
   ]
  },
  {
   "cell_type": "code",
   "execution_count": 386,
   "id": "ae8431ec",
   "metadata": {},
   "outputs": [
    {
     "data": {
      "text/html": [
       "<div>\n",
       "<style scoped>\n",
       "    .dataframe tbody tr th:only-of-type {\n",
       "        vertical-align: middle;\n",
       "    }\n",
       "\n",
       "    .dataframe tbody tr th {\n",
       "        vertical-align: top;\n",
       "    }\n",
       "\n",
       "    .dataframe thead th {\n",
       "        text-align: right;\n",
       "    }\n",
       "</style>\n",
       "<table border=\"1\" class=\"dataframe\">\n",
       "  <thead>\n",
       "    <tr style=\"text-align: right;\">\n",
       "      <th></th>\n",
       "      <th>article</th>\n",
       "      <th>index</th>\n",
       "    </tr>\n",
       "  </thead>\n",
       "  <tbody>\n",
       "    <tr>\n",
       "      <th>73</th>\n",
       "      <td>article fins pr sente charte entend a charte m...</td>\n",
       "      <td>73</td>\n",
       "    </tr>\n",
       "    <tr>\n",
       "      <th>536</th>\n",
       "      <td>article centres r gionaux pr vus ci dessus hab...</td>\n",
       "      <td>536</td>\n",
       "    </tr>\n",
       "    <tr>\n",
       "      <th>535</th>\n",
       "      <td>article application pr sent arr entend loi loi...</td>\n",
       "      <td>535</td>\n",
       "    </tr>\n",
       "    <tr>\n",
       "      <th>571</th>\n",
       "      <td>article e ex rcer p che chasse laring nivse li...</td>\n",
       "      <td>571</td>\n",
       "    </tr>\n",
       "    <tr>\n",
       "      <th>45</th>\n",
       "      <td>article premier ministre charg ex cution pr se...</td>\n",
       "      <td>45</td>\n",
       "    </tr>\n",
       "    <tr>\n",
       "      <th>290</th>\n",
       "      <td>article premier ins r code mer troisi partie a...</td>\n",
       "      <td>290</td>\n",
       "    </tr>\n",
       "    <tr>\n",
       "      <th>521</th>\n",
       "      <td>article exploitations peuvent avoir lieu zones...</td>\n",
       "      <td>521</td>\n",
       "    </tr>\n",
       "    <tr>\n",
       "      <th>391</th>\n",
       "      <td>article garde sceaux ministre justice ieminisl...</td>\n",
       "      <td>391</td>\n",
       "    </tr>\n",
       "    <tr>\n",
       "      <th>288</th>\n",
       "      <td>article er application articles ordonnance prg...</td>\n",
       "      <td>288</td>\n",
       "    </tr>\n",
       "    <tr>\n",
       "      <th>4</th>\n",
       "      <td>article base compte rendu reconnaissance fonct...</td>\n",
       "      <td>4</td>\n",
       "    </tr>\n",
       "  </tbody>\n",
       "</table>\n",
       "</div>"
      ],
      "text/plain": [
       "                                               article  index\n",
       "73   article fins pr sente charte entend a charte m...     73\n",
       "536  article centres r gionaux pr vus ci dessus hab...    536\n",
       "535  article application pr sent arr entend loi loi...    535\n",
       "571  article e ex rcer p che chasse laring nivse li...    571\n",
       "45   article premier ministre charg ex cution pr se...     45\n",
       "290  article premier ins r code mer troisi partie a...    290\n",
       "521  article exploitations peuvent avoir lieu zones...    521\n",
       "391  article garde sceaux ministre justice ieminisl...    391\n",
       "288  article er application articles ordonnance prg...    288\n",
       "4    article base compte rendu reconnaissance fonct...      4"
      ]
     },
     "execution_count": 386,
     "metadata": {},
     "output_type": "execute_result"
    }
   ],
   "source": [
    "# data[\"article\"] = data[\"article\"].apply(lambda x: preprocess_text(x, remove_stopwords=True))\n",
    "data_preprocessed_to_annotate[\"article\"] = data_preprocessed_to_annotate[\"article\"].apply(preprocess_text)\n",
    "data_preprocessed_to_annotate.head(10)"
   ]
  },
  {
   "cell_type": "code",
   "execution_count": 387,
   "id": "9c0b1516",
   "metadata": {},
   "outputs": [
    {
     "data": {
      "text/plain": [
       "(8722, 2)"
      ]
     },
     "execution_count": 387,
     "metadata": {},
     "output_type": "execute_result"
    }
   ],
   "source": [
    "#Get shape\n",
    "data_preprocessed_to_annotate.shape"
   ]
  },
  {
   "cell_type": "code",
   "execution_count": 388,
   "id": "71b328cb",
   "metadata": {},
   "outputs": [
    {
     "data": {
      "text/html": [
       "<div>\n",
       "<style scoped>\n",
       "    .dataframe tbody tr th:only-of-type {\n",
       "        vertical-align: middle;\n",
       "    }\n",
       "\n",
       "    .dataframe tbody tr th {\n",
       "        vertical-align: top;\n",
       "    }\n",
       "\n",
       "    .dataframe thead th {\n",
       "        text-align: right;\n",
       "    }\n",
       "</style>\n",
       "<table border=\"1\" class=\"dataframe\">\n",
       "  <thead>\n",
       "    <tr style=\"text-align: right;\">\n",
       "      <th></th>\n",
       "      <th>article</th>\n",
       "      <th>index</th>\n",
       "    </tr>\n",
       "  </thead>\n",
       "  <tbody>\n",
       "    <tr>\n",
       "      <th>73</th>\n",
       "      <td>articl fin pr sent chart entend a chart mariti...</td>\n",
       "      <td>73</td>\n",
       "    </tr>\n",
       "    <tr>\n",
       "      <th>536</th>\n",
       "      <td>articl centr r gional pr vus ci dessus habil o...</td>\n",
       "      <td>536</td>\n",
       "    </tr>\n",
       "    <tr>\n",
       "      <th>535</th>\n",
       "      <td>articl appliqu pr sent arr entend loi loi janv...</td>\n",
       "      <td>535</td>\n",
       "    </tr>\n",
       "    <tr>\n",
       "      <th>571</th>\n",
       "      <td>articl e ex rcer p che chass laring nivs livr ...</td>\n",
       "      <td>571</td>\n",
       "    </tr>\n",
       "    <tr>\n",
       "      <th>45</th>\n",
       "      <td>articl premi ministr charg ex cution pr sent c...</td>\n",
       "      <td>45</td>\n",
       "    </tr>\n",
       "    <tr>\n",
       "      <th>290</th>\n",
       "      <td>articl premi in r cod mer trois part arr minis...</td>\n",
       "      <td>290</td>\n",
       "    </tr>\n",
       "    <tr>\n",
       "      <th>521</th>\n",
       "      <td>articl exploit peuvent avoir lieu zon contr se...</td>\n",
       "      <td>521</td>\n",
       "    </tr>\n",
       "    <tr>\n",
       "      <th>391</th>\n",
       "      <td>articl gard sceau ministr justic ieminislr aff...</td>\n",
       "      <td>391</td>\n",
       "    </tr>\n",
       "    <tr>\n",
       "      <th>288</th>\n",
       "      <td>articl er appliqu articl ordon prg mai port co...</td>\n",
       "      <td>288</td>\n",
       "    </tr>\n",
       "    <tr>\n",
       "      <th>4</th>\n",
       "      <td>articl bas compt rendu reconnaiss fonction gra...</td>\n",
       "      <td>4</td>\n",
       "    </tr>\n",
       "  </tbody>\n",
       "</table>\n",
       "</div>"
      ],
      "text/plain": [
       "                                               article  index\n",
       "73   articl fin pr sent chart entend a chart mariti...     73\n",
       "536  articl centr r gional pr vus ci dessus habil o...    536\n",
       "535  articl appliqu pr sent arr entend loi loi janv...    535\n",
       "571  articl e ex rcer p che chass laring nivs livr ...    571\n",
       "45   articl premi ministr charg ex cution pr sent c...     45\n",
       "290  articl premi in r cod mer trois part arr minis...    290\n",
       "521  articl exploit peuvent avoir lieu zon contr se...    521\n",
       "391  articl gard sceau ministr justic ieminislr aff...    391\n",
       "288  articl er appliqu articl ordon prg mai port co...    288\n",
       "4    articl bas compt rendu reconnaiss fonction gra...      4"
      ]
     },
     "execution_count": 388,
     "metadata": {},
     "output_type": "execute_result"
    }
   ],
   "source": [
    "stemmer = SnowballStemmer(\"french\")\n",
    "data_preprocessed_to_annotate['article'] = data_preprocessed_to_annotate['article'].apply(lambda x: ' '.join([stemmer.stem(word) for word in x.split()]))\n",
    "\n",
    "data_preprocessed_to_annotate.head(10)"
   ]
  },
  {
   "cell_type": "code",
   "execution_count": 389,
   "id": "20416e42",
   "metadata": {},
   "outputs": [
    {
     "data": {
      "text/plain": [
       "(8722, 2)"
      ]
     },
     "execution_count": 389,
     "metadata": {},
     "output_type": "execute_result"
    }
   ],
   "source": [
    "#Get shape\n",
    "data_preprocessed_to_annotate.shape"
   ]
  },
  {
   "cell_type": "code",
   "execution_count": 390,
   "id": "63197072",
   "metadata": {},
   "outputs": [],
   "source": [
    "Classifiers = [('Logistic Regression', lr),\n",
    "               ('XGBoost CLassifier', xgb),\n",
    "#                ('Passive Aggressive Classifier', pac),\n",
    "               ('Light GBM Classifier', lgb),\n",
    "#                ('Ridge Classifier', ridge),\n",
    "#                ('KNeighborsClassifier', knn),\n",
    "               ('RandomForestClassifier', rfc),\n",
    "#                ('SVC', svc),\n",
    "#                ('SGDClassifier', sdgc),\n",
    "#                ('DecisionTreeClassifier', dtreec),\n",
    "               ('MultinomialNB', mnnb)\n",
    "              ]"
   ]
  },
  {
   "cell_type": "code",
   "execution_count": 391,
   "id": "f24f79f1",
   "metadata": {},
   "outputs": [
    {
     "name": "stdout",
     "output_type": "stream",
     "text": [
      "Voting Classifier : 96.86%\n"
     ]
    }
   ],
   "source": [
    "voting_classifier = VotingClassifier(estimators=Classifiers, voting='soft')\n",
    "\n",
    "voting_classifier.fit(tfidf_train, y_train)\n",
    "y_pred = voting_classifier.predict(tfidf_test)\n",
    "\n",
    "score = accuracy_score(y_test, y_pred)\n",
    "print(\"Voting Classifier : {:}%\".format(round(score*100, 2)))"
   ]
  },
  {
   "cell_type": "code",
   "execution_count": 392,
   "id": "2c7ae0cb",
   "metadata": {},
   "outputs": [],
   "source": [
    "def prob(model, article):\n",
    "    article_preprocessed = preprocess_text(article)\n",
    "    article_preprocessed = ' '.join([stemmer.stem(word) for word in article_preprocessed.split()])\n",
    "    tfidf_article = tfidf_vectorizer.transform([article_preprocessed])\n",
    "    prediction = model.predict_proba(tfidf_article)\n",
    "    return [article, prediction[0][0], prediction[0][1]]"
   ]
  },
  {
   "cell_type": "code",
   "execution_count": 393,
   "id": "c54e3e83",
   "metadata": {},
   "outputs": [],
   "source": [
    "liste = []\n",
    "for i in data_to_annotate['article']:\n",
    "    liste.append(prob(voting_classifier, i))"
   ]
  },
  {
   "cell_type": "code",
   "execution_count": 394,
   "id": "7e907589",
   "metadata": {},
   "outputs": [
    {
     "data": {
      "text/plain": [
       "8722"
      ]
     },
     "execution_count": 394,
     "metadata": {},
     "output_type": "execute_result"
    }
   ],
   "source": [
    "len(liste)"
   ]
  },
  {
   "cell_type": "code",
   "execution_count": 395,
   "id": "f6fb8042",
   "metadata": {},
   "outputs": [
    {
     "data": {
      "text/html": [
       "<div>\n",
       "<style scoped>\n",
       "    .dataframe tbody tr th:only-of-type {\n",
       "        vertical-align: middle;\n",
       "    }\n",
       "\n",
       "    .dataframe tbody tr th {\n",
       "        vertical-align: top;\n",
       "    }\n",
       "\n",
       "    .dataframe thead th {\n",
       "        text-align: right;\n",
       "    }\n",
       "</style>\n",
       "<table border=\"1\" class=\"dataframe\">\n",
       "  <thead>\n",
       "    <tr style=\"text-align: right;\">\n",
       "      <th></th>\n",
       "      <th>article</th>\n",
       "      <th>Not Zone</th>\n",
       "      <th>Zone</th>\n",
       "    </tr>\n",
       "  </thead>\n",
       "  <tbody>\n",
       "    <tr>\n",
       "      <th>0</th>\n",
       "      <td>article 1 : aux fins de la présente charte, on...</td>\n",
       "      <td>0.943819</td>\n",
       "      <td>0.056181</td>\n",
       "    </tr>\n",
       "    <tr>\n",
       "      <th>1</th>\n",
       "      <td>article 9. - les centres régionaux, prévus ci-...</td>\n",
       "      <td>0.886015</td>\n",
       "      <td>0.113985</td>\n",
       "    </tr>\n",
       "    <tr>\n",
       "      <th>2</th>\n",
       "      <td>article 1. pour l'application du présent arrêt...</td>\n",
       "      <td>0.901109</td>\n",
       "      <td>0.098891</td>\n",
       "    </tr>\n",
       "    <tr>\n",
       "      <th>3</th>\n",
       "      <td>article 3eût exèrcer 18 pêche’ et la chasse au...</td>\n",
       "      <td>0.888332</td>\n",
       "      <td>0.111668</td>\n",
       "    </tr>\n",
       "    <tr>\n",
       "      <th>4</th>\n",
       "      <td>article 2. — le premier ministre est chargé de...</td>\n",
       "      <td>0.914298</td>\n",
       "      <td>0.085702</td>\n",
       "    </tr>\n",
       "  </tbody>\n",
       "</table>\n",
       "</div>"
      ],
      "text/plain": [
       "                                             article  Not Zone      Zone\n",
       "0  article 1 : aux fins de la présente charte, on...  0.943819  0.056181\n",
       "1  article 9. - les centres régionaux, prévus ci-...  0.886015  0.113985\n",
       "2  article 1. pour l'application du présent arrêt...  0.901109  0.098891\n",
       "3  article 3eût exèrcer 18 pêche’ et la chasse au...  0.888332  0.111668\n",
       "4  article 2. — le premier ministre est chargé de...  0.914298  0.085702"
      ]
     },
     "execution_count": 395,
     "metadata": {},
     "output_type": "execute_result"
    }
   ],
   "source": [
    "df = pd.DataFrame(liste)\n",
    "df.columns = ['article', 'Not Zone', 'Zone']\n",
    "df.head()"
   ]
  },
  {
   "cell_type": "code",
   "execution_count": 402,
   "id": "b322eca6",
   "metadata": {},
   "outputs": [],
   "source": [
    "df_high_labeled_zone = df[df['Zone'] >= 0.9][['article', 'Zone']]\n",
    "df_high_labeled_not_zone = df[df['Not Zone'] >= 0.98][['article', 'Not Zone']]"
   ]
  },
  {
   "cell_type": "code",
   "execution_count": 403,
   "id": "d95558a0",
   "metadata": {},
   "outputs": [
    {
     "data": {
      "text/plain": [
       "((3, 2), (2, 2))"
      ]
     },
     "execution_count": 403,
     "metadata": {},
     "output_type": "execute_result"
    }
   ],
   "source": [
    "df_high_labeled_zone.shape, df_high_labeled_not_zone.shape"
   ]
  },
  {
   "cell_type": "code",
   "execution_count": 404,
   "id": "41922840",
   "metadata": {},
   "outputs": [
    {
     "name": "stdout",
     "output_type": "stream",
     "text": [
      "Zone : 0.9026148310614444\n",
      "article 2. la délimitation de la zone visée à l'article 1°\"\" peut être décrite de la manière suivante :- à l'est, la frontière de la ville d'anvers en partant de la frontière nationale avec les pays-bas jusqu'aucroisement de la route régionale n49:- au sud, la route régionale n451, à partir du croisement précité jusqu'au croisement avec la route provincialen451;- à l'ouest, la route provinciale n451, à l'exception des zones résidentielles des communes de kieldrecht et deverrebroek et des terrains d'entreprises locaux situés le long de cette frontière occidentale;- au nord, la frontière nationale avec les pays-bas.2° l'article 3 est remplacé par ce qui suit :\n",
      "----------------------------------------------------------\n",
      "Zone : 0.9092856182996757\n",
      "article 3. — dans sa zone économique exclusive, la république algérienne démocratique et populaire exerce sesdroits souverains et sa juridiction conformément auxdispositions de la convention des nations unies sur le droitde la mer de 1982, notamment sa partie v.\n",
      "----------------------------------------------------------\n",
      "Zone : 0.9026148310614444\n",
      "article 2. la délimitation de la zone visée à l'article 1°\" peut être décrite de la manière suivante :- à l'est, la frontière de la ville d'anvers en partant de la frontière nationale avec les pays-bas jusqu'aucroisement de la route régionale n49:- au sud, la route régionale n451, à partir du croisement précité jusqu'au croisement avec la route provincialen451;- à l'ouest, la route provinciale n451, à l'exception des zones résidentielles des communes de kieldrecht et deverrebroek et des terrains d'entreprises locaux situés le long de cette frontière occidentale;- au nord, la frontière nationale avec les pays-bas.2° l'article 3 est remplacé par ce qui suit :\n",
      "----------------------------------------------------------\n"
     ]
    }
   ],
   "source": [
    "for index, row in df_high_labeled_zone.iterrows():\n",
    "    print(\"Zone :\", row[\"Zone\"])\n",
    "    print(row[\"article\"])\n",
    "    print(\"----------------------------------------------------------\")\n",
    "#     idx = random.randint(1, 20000)\n",
    "#     while idx in dataset['id']:\n",
    "#         idx = random.randint(1, 20000)\n",
    "#     new_row = {'id':idx, 'article':row[\"article\"], 'label':'Zone'}\n",
    "#     dataset = dataset.append(new_row, ignore_index=True)"
   ]
  },
  {
   "cell_type": "code",
   "execution_count": 399,
   "id": "076cbf6a",
   "metadata": {},
   "outputs": [
    {
     "data": {
      "text/plain": [
       "(1272, 3)"
      ]
     },
     "execution_count": 399,
     "metadata": {},
     "output_type": "execute_result"
    }
   ],
   "source": [
    "dataset.shape"
   ]
  },
  {
   "cell_type": "code",
   "execution_count": 400,
   "id": "571514d6",
   "metadata": {},
   "outputs": [
    {
     "name": "stdout",
     "output_type": "stream",
     "text": [
      "Not Zone : 0.9805061975360312\n",
      "article 9. — i. — l’armateur constitue, conserve et tient à jour un dossier technique regroupant les informations relatives à la recherche et à l’identification des matériaux et produits faisant l’objet du présent décret ainsi qu’àl'évaluation de leur état de conservation.ce dossier précise la date, la nature, la localisation et les résultats des contrôles périodiques, des mesuresd’empoussièrement et, le cas échéant, des travaux effectués en application du présent décret.il — un exemplaire à jour du dossier est transmis au capitaine qui le tient a la disposition des membres del'équipage, du centre de sécurité des navires et de l’agent de contrôle de l’inspection du travail compétent.il — l’armateur communique ces informations à toute personne ou entreprise appelée à effectuer des travauxsur le navire.chapitre vsanctions pénales\n",
      "----------------------------------------------------------\n",
      "Not Zone : 0.982359217926627\n",
      "article 12 : attribution du directeur. - le directeur est chargé de l'exécution des décisions prises par le conseild'administration auquel il rend compte de sa gestion. il estordonnateur du budget du port autonome de nouadhibou. il aautorité sur le personnel du port autonome de nouadhibou aurecrutement duquel il procède dans la limite des effectifsprévus au budget annuel et selon les conditions de rétributionsfixés par le conseil d'administration.le directeur représente le port autonome de nouadhiboudans toutes les opérations commerciales et fait, en son non,toutes conventions relatives a la réalisation de son objet.après autorisation du conseil d'administration, le directeurreprésente le port autonome en justice comme demandeur oudéfendeur, poursuit l'exécution de tous les jugements et faitprocéder à toutes les saisies.en cas d'absence ou de maladie du directeur, celui-ci serasupplée provisoirement par le directeur adjoint du portautonome de nouadhibou,dans les trente jours qui suivent chaque fin de semestre,le directeur communique au président du conseil un rapportsuccinct de gestion concernant le trafic, l’exécution du budgetet des travaux en cours, la situation de la trésorerie etl'état des valeurs à recouvrer.avant le 15 décembre de chaque année, le directeur remetau conseil d'administration le projet de budget de l’annéesuivante.avant le 31 mars, il lui soumet les documents énumérés au65 8 de l’article 7 ci-dessus.en cas d'urgence, le directeur prélève sur le fonds deréserve les ressources nécessaires au fonctionnement del'établissement. dans ce cas, il rend compte au président duconseil d’administration.le directeur exerce une coordination générale sur tous lesservices publics en ce qui concerne les affaires quiintéressent directement l'exploitation du port, notamment surles services des douanes, de la marine marchande, de la police,de la gendarmerie, etc.\n",
      "----------------------------------------------------------\n"
     ]
    }
   ],
   "source": [
    "for index, row in df_high_labeled_not_zone.iterrows():\n",
    "    print(\"Not Zone :\", row[\"Not Zone\"])\n",
    "    print(row[\"article\"])\n",
    "    print(\"----------------------------------------------------------\")\n",
    "#     idx = random.randint(1, 20000)\n",
    "#     while idx in dataset['id']:\n",
    "#         idx = random.randint(1, 20000)\n",
    "#     new_row = {'id':idx, 'article':row[\"article\"], 'label':'Not Zone'}\n",
    "#     dataset = dataset.append(new_row, ignore_index=True)"
   ]
  },
  {
   "cell_type": "code",
   "execution_count": 401,
   "id": "6cd006a6",
   "metadata": {},
   "outputs": [
    {
     "data": {
      "text/plain": [
       "(1272, 3)"
      ]
     },
     "execution_count": 401,
     "metadata": {},
     "output_type": "execute_result"
    }
   ],
   "source": [
    "dataset.shape"
   ]
  },
  {
   "cell_type": "code",
   "execution_count": 319,
   "id": "aa9e4d8a",
   "metadata": {},
   "outputs": [],
   "source": [
    "dataset.to_csv('OldData_and_newData.csv')"
   ]
  }
 ],
 "metadata": {
  "kernelspec": {
   "display_name": "Python 3 (ipykernel)",
   "language": "python",
   "name": "python3"
  },
  "language_info": {
   "codemirror_mode": {
    "name": "ipython",
    "version": 3
   },
   "file_extension": ".py",
   "mimetype": "text/x-python",
   "name": "python",
   "nbconvert_exporter": "python",
   "pygments_lexer": "ipython3",
   "version": "3.9.7"
  }
 },
 "nbformat": 4,
 "nbformat_minor": 5
}

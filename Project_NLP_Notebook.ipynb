{
 "cells": [
  {
   "cell_type": "code",
   "execution_count": 1,
   "id": "072616d8",
   "metadata": {},
   "outputs": [],
   "source": [
    "import numpy as np\n",
    "import pandas as pd\n",
    "\n",
    "import re\n",
    "import pickle\n",
    "\n",
    "from sklearn.model_selection import train_test_split\n",
    "from sklearn.feature_extraction.text import TfidfVectorizer\n",
    "from sklearn.metrics import accuracy_score, confusion_matrix\n",
    "\n",
    "import nltk\n",
    "from nltk.corpus import stopwords\n",
    "from nltk.stem.snowball import SnowballStemmer\n",
    "\n",
    "import matplotlib.pyplot as plt\n",
    "import seaborn as sns\n",
    "import random\n",
    "\n",
    "from sklearn.ensemble import VotingClassifier, RandomForestClassifier\n",
    "from sklearn.linear_model import PassiveAggressiveClassifier, LogisticRegression, RidgeClassifier, SGDClassifier\n",
    "import lightgbm\n",
    "import xgboost\n",
    "from sklearn.svm import SVC\n",
    "from sklearn.naive_bayes import MultinomialNB\n",
    "\n",
    "SEED = 1"
   ]
  },
  {
   "cell_type": "code",
   "execution_count": 2,
   "id": "82669327",
   "metadata": {},
   "outputs": [],
   "source": [
    "#Read the data\n",
    "dataset = pd.read_csv('Data.csv', usecols=['id', 'article','label'])"
   ]
  },
  {
   "cell_type": "code",
   "execution_count": 3,
   "id": "689dd7c5",
   "metadata": {},
   "outputs": [
    {
     "data": {
      "text/plain": [
       "(1272, 3)"
      ]
     },
     "execution_count": 3,
     "metadata": {},
     "output_type": "execute_result"
    }
   ],
   "source": [
    "#Get shape\n",
    "dataset.shape"
   ]
  },
  {
   "cell_type": "code",
   "execution_count": 4,
   "id": "9c57cec8",
   "metadata": {},
   "outputs": [
    {
     "data": {
      "text/html": [
       "<div>\n",
       "<style scoped>\n",
       "    .dataframe tbody tr th:only-of-type {\n",
       "        vertical-align: middle;\n",
       "    }\n",
       "\n",
       "    .dataframe tbody tr th {\n",
       "        vertical-align: top;\n",
       "    }\n",
       "\n",
       "    .dataframe thead th {\n",
       "        text-align: right;\n",
       "    }\n",
       "</style>\n",
       "<table border=\"1\" class=\"dataframe\">\n",
       "  <thead>\n",
       "    <tr style=\"text-align: right;\">\n",
       "      <th></th>\n",
       "      <th>id</th>\n",
       "      <th>article</th>\n",
       "      <th>label</th>\n",
       "    </tr>\n",
       "  </thead>\n",
       "  <tbody>\n",
       "    <tr>\n",
       "      <th>0</th>\n",
       "      <td>10909</td>\n",
       "      <td>article 7. - le conseil des professeurs il est...</td>\n",
       "      <td>Not Zone</td>\n",
       "    </tr>\n",
       "    <tr>\n",
       "      <th>1</th>\n",
       "      <td>571</td>\n",
       "      <td>article 3. — les ouvrages ou installations son...</td>\n",
       "      <td>Not Zone</td>\n",
       "    </tr>\n",
       "    <tr>\n",
       "      <th>2</th>\n",
       "      <td>10509</td>\n",
       "      <td>article l. 365-1. - la responsabilité civile o...</td>\n",
       "      <td>Not Zone</td>\n",
       "    </tr>\n",
       "    <tr>\n",
       "      <th>3</th>\n",
       "      <td>2572</td>\n",
       "      <td>article 23. le conseil d'administration ne peu...</td>\n",
       "      <td>Not Zone</td>\n",
       "    </tr>\n",
       "    <tr>\n",
       "      <th>4</th>\n",
       "      <td>36</td>\n",
       "      <td>article 14. - sur la base du compte rendu de r...</td>\n",
       "      <td>Not Zone</td>\n",
       "    </tr>\n",
       "  </tbody>\n",
       "</table>\n",
       "</div>"
      ],
      "text/plain": [
       "      id                                            article     label\n",
       "0  10909  article 7. - le conseil des professeurs il est...  Not Zone\n",
       "1    571  article 3. — les ouvrages ou installations son...  Not Zone\n",
       "2  10509  article l. 365-1. - la responsabilité civile o...  Not Zone\n",
       "3   2572  article 23. le conseil d'administration ne peu...  Not Zone\n",
       "4     36  article 14. - sur la base du compte rendu de r...  Not Zone"
      ]
     },
     "execution_count": 4,
     "metadata": {},
     "output_type": "execute_result"
    }
   ],
   "source": [
    "dataset.head()"
   ]
  },
  {
   "cell_type": "code",
   "execution_count": 6,
   "id": "060520be",
   "metadata": {},
   "outputs": [
    {
     "name": "stdout",
     "output_type": "stream",
     "text": [
      "(636,)\n",
      "(636,)\n"
     ]
    }
   ],
   "source": [
    "label_0 = dataset[dataset['label']=='Not Zone'].value_counts()\n",
    "print(label_0.shape)\n",
    "\n",
    "label_1 = dataset[dataset['label']=='Zone'].value_counts()\n",
    "print(label_1.shape)"
   ]
  },
  {
   "cell_type": "code",
   "execution_count": 7,
   "id": "d7684d6d",
   "metadata": {},
   "outputs": [
    {
     "data": {
      "text/plain": [
       "(1272, 3)"
      ]
     },
     "execution_count": 7,
     "metadata": {},
     "output_type": "execute_result"
    }
   ],
   "source": [
    "data = dataset.groupby('label', group_keys=False).apply(lambda x: x.sample(dataset.label.value_counts().min()))\n",
    "data.shape"
   ]
  },
  {
   "cell_type": "code",
   "execution_count": 8,
   "id": "fcc27dd4",
   "metadata": {},
   "outputs": [
    {
     "name": "stdout",
     "output_type": "stream",
     "text": [
      "(636,)\n",
      "(636,)\n"
     ]
    }
   ],
   "source": [
    "label_0 = data[data['label']=='Not Zone'].value_counts()\n",
    "print(label_0.shape)\n",
    "\n",
    "label_1 = data[data['label']=='Zone'].value_counts()\n",
    "print(label_1.shape)"
   ]
  },
  {
   "cell_type": "code",
   "execution_count": 9,
   "id": "1507e290",
   "metadata": {},
   "outputs": [
    {
     "data": {
      "text/plain": [
       "array(['Not Zone', 'Zone'], dtype=object)"
      ]
     },
     "execution_count": 9,
     "metadata": {},
     "output_type": "execute_result"
    }
   ],
   "source": [
    "data['label'].unique()"
   ]
  },
  {
   "cell_type": "code",
   "execution_count": 10,
   "id": "078031e7",
   "metadata": {},
   "outputs": [],
   "source": [
    "data = data.dropna()"
   ]
  },
  {
   "cell_type": "code",
   "execution_count": 11,
   "id": "189b2f26",
   "metadata": {},
   "outputs": [
    {
     "data": {
      "text/plain": [
       "array(['Not Zone', 'Zone'], dtype=object)"
      ]
     },
     "execution_count": 11,
     "metadata": {},
     "output_type": "execute_result"
    }
   ],
   "source": [
    "data['label'].unique()"
   ]
  },
  {
   "cell_type": "code",
   "execution_count": 12,
   "id": "1d503237",
   "metadata": {},
   "outputs": [
    {
     "data": {
      "text/plain": [
       "(1272, 3)"
      ]
     },
     "execution_count": 12,
     "metadata": {},
     "output_type": "execute_result"
    }
   ],
   "source": [
    "#Get shape\n",
    "data.shape"
   ]
  },
  {
   "cell_type": "code",
   "execution_count": 13,
   "id": "5e353d78",
   "metadata": {},
   "outputs": [
    {
     "name": "stdout",
     "output_type": "stream",
     "text": [
      "(636,)\n",
      "(636,)\n"
     ]
    }
   ],
   "source": [
    "label_0 = data[data['label']=='Not Zone'].value_counts()\n",
    "print(label_0.shape)\n",
    "\n",
    "label_1 = data[data['label']=='Zone'].value_counts()\n",
    "print(label_1.shape)"
   ]
  },
  {
   "cell_type": "markdown",
   "id": "d021f247",
   "metadata": {},
   "source": [
    "# Modeling using ML models:"
   ]
  },
  {
   "cell_type": "code",
   "execution_count": 15,
   "id": "339cf2a7",
   "metadata": {},
   "outputs": [],
   "source": [
    "# def preprocess_text(text: str, remove_stopwords: bool) -> str:\n",
    "def preprocess_text(text):\n",
    "    \"\"\"This utility function sanitizes a string by:\n",
    "    - removing links\n",
    "    - removing special characters\n",
    "    - removing numbers\n",
    "    - removing stopwords\n",
    "    - transforming in lowercase\n",
    "    - removing excessive whitespaces\n",
    "    Args:\n",
    "        text (str): the input text you want to clean\n",
    "        remove_stopwords (bool): whether or not to remove stopwords\n",
    "    Returns:\n",
    "        str: the cleaned text\n",
    "    \"\"\"\n",
    "    \n",
    "    # remove special chars and numbers\n",
    "    text = re.sub(\"[^A-Za-z]+\", \" \", text)\n",
    "    # remove stopwords\n",
    "#     if remove_stopwords:\n",
    "    # 1. tokenize\n",
    "    tokens = nltk.word_tokenize(text)\n",
    "    # 2. check if stopword\n",
    "    tokens = [w for w in tokens if not w.lower() in stopwords.words(\"french\")]\n",
    "    # 3. join back together\n",
    "    text = \" \".join(tokens)\n",
    "    \n",
    "    # return text in lower case and stripped of whitespaces\n",
    "    text = text.lower().strip()\n",
    "    return text"
   ]
  },
  {
   "cell_type": "code",
   "execution_count": 16,
   "id": "0346341d",
   "metadata": {},
   "outputs": [],
   "source": [
    "data_preprocessed = data.copy()"
   ]
  },
  {
   "cell_type": "code",
   "execution_count": 17,
   "id": "df66b197",
   "metadata": {},
   "outputs": [
    {
     "data": {
      "text/html": [
       "<div>\n",
       "<style scoped>\n",
       "    .dataframe tbody tr th:only-of-type {\n",
       "        vertical-align: middle;\n",
       "    }\n",
       "\n",
       "    .dataframe tbody tr th {\n",
       "        vertical-align: top;\n",
       "    }\n",
       "\n",
       "    .dataframe thead th {\n",
       "        text-align: right;\n",
       "    }\n",
       "</style>\n",
       "<table border=\"1\" class=\"dataframe\">\n",
       "  <thead>\n",
       "    <tr style=\"text-align: right;\">\n",
       "      <th></th>\n",
       "      <th>id</th>\n",
       "      <th>article</th>\n",
       "      <th>label</th>\n",
       "    </tr>\n",
       "  </thead>\n",
       "  <tbody>\n",
       "    <tr>\n",
       "      <th>170</th>\n",
       "      <td>150</td>\n",
       "      <td>article pr sente loi applique paves bris paves...</td>\n",
       "      <td>Not Zone</td>\n",
       "    </tr>\n",
       "    <tr>\n",
       "      <th>465</th>\n",
       "      <td>85</td>\n",
       "      <td>article ler ler application article sbis loi j...</td>\n",
       "      <td>Not Zone</td>\n",
       "    </tr>\n",
       "    <tr>\n",
       "      <th>126</th>\n",
       "      <td>587</td>\n",
       "      <td>article directeur transport maritime ports lit...</td>\n",
       "      <td>Not Zone</td>\n",
       "    </tr>\n",
       "    <tr>\n",
       "      <th>53</th>\n",
       "      <td>706</td>\n",
       "      <td>article conformit r glementation service envir...</td>\n",
       "      <td>Not Zone</td>\n",
       "    </tr>\n",
       "    <tr>\n",
       "      <th>23</th>\n",
       "      <td>10</td>\n",
       "      <td>article demande agr ment doit tre formul e pos...</td>\n",
       "      <td>Not Zone</td>\n",
       "    </tr>\n",
       "    <tr>\n",
       "      <th>464</th>\n",
       "      <td>5422</td>\n",
       "      <td>article commission peut faire appel toute pers...</td>\n",
       "      <td>Not Zone</td>\n",
       "    </tr>\n",
       "    <tr>\n",
       "      <th>70</th>\n",
       "      <td>1166</td>\n",
       "      <td>article dimentions caract tres identification ...</td>\n",
       "      <td>Not Zone</td>\n",
       "    </tr>\n",
       "    <tr>\n",
       "      <th>382</th>\n",
       "      <td>5686</td>\n",
       "      <td>article agence national affaires maritimes cha...</td>\n",
       "      <td>Not Zone</td>\n",
       "    </tr>\n",
       "    <tr>\n",
       "      <th>363</th>\n",
       "      <td>19261</td>\n",
       "      <td>article composition conseil administration con...</td>\n",
       "      <td>Not Zone</td>\n",
       "    </tr>\n",
       "    <tr>\n",
       "      <th>73</th>\n",
       "      <td>330</td>\n",
       "      <td>article fins pr sente charte entend a charte m...</td>\n",
       "      <td>Not Zone</td>\n",
       "    </tr>\n",
       "  </tbody>\n",
       "</table>\n",
       "</div>"
      ],
      "text/plain": [
       "        id                                            article     label\n",
       "170    150  article pr sente loi applique paves bris paves...  Not Zone\n",
       "465     85  article ler ler application article sbis loi j...  Not Zone\n",
       "126    587  article directeur transport maritime ports lit...  Not Zone\n",
       "53     706  article conformit r glementation service envir...  Not Zone\n",
       "23      10  article demande agr ment doit tre formul e pos...  Not Zone\n",
       "464   5422  article commission peut faire appel toute pers...  Not Zone\n",
       "70    1166  article dimentions caract tres identification ...  Not Zone\n",
       "382   5686  article agence national affaires maritimes cha...  Not Zone\n",
       "363  19261  article composition conseil administration con...  Not Zone\n",
       "73     330  article fins pr sente charte entend a charte m...  Not Zone"
      ]
     },
     "execution_count": 17,
     "metadata": {},
     "output_type": "execute_result"
    }
   ],
   "source": [
    "data_preprocessed[\"article\"] = data_preprocessed[\"article\"].apply(preprocess_text)\n",
    "data_preprocessed.head(10)"
   ]
  },
  {
   "cell_type": "code",
   "execution_count": 18,
   "id": "e1aed75e",
   "metadata": {},
   "outputs": [
    {
     "data": {
      "text/plain": [
       "(1272, 3)"
      ]
     },
     "execution_count": 18,
     "metadata": {},
     "output_type": "execute_result"
    }
   ],
   "source": [
    "#Get shape\n",
    "data_preprocessed.shape"
   ]
  },
  {
   "cell_type": "code",
   "execution_count": 19,
   "id": "e8b4adfc",
   "metadata": {
    "scrolled": true
   },
   "outputs": [
    {
     "data": {
      "text/html": [
       "<div>\n",
       "<style scoped>\n",
       "    .dataframe tbody tr th:only-of-type {\n",
       "        vertical-align: middle;\n",
       "    }\n",
       "\n",
       "    .dataframe tbody tr th {\n",
       "        vertical-align: top;\n",
       "    }\n",
       "\n",
       "    .dataframe thead th {\n",
       "        text-align: right;\n",
       "    }\n",
       "</style>\n",
       "<table border=\"1\" class=\"dataframe\">\n",
       "  <thead>\n",
       "    <tr style=\"text-align: right;\">\n",
       "      <th></th>\n",
       "      <th>id</th>\n",
       "      <th>article</th>\n",
       "      <th>label</th>\n",
       "    </tr>\n",
       "  </thead>\n",
       "  <tbody>\n",
       "    <tr>\n",
       "      <th>170</th>\n",
       "      <td>150</td>\n",
       "      <td>article 3. la présente loi ne s'applique pas a...</td>\n",
       "      <td>Not Zone</td>\n",
       "    </tr>\n",
       "    <tr>\n",
       "      <th>465</th>\n",
       "      <td>85</td>\n",
       "      <td>article ler. § ler. en application de l'articl...</td>\n",
       "      <td>Not Zone</td>\n",
       "    </tr>\n",
       "    <tr>\n",
       "      <th>126</th>\n",
       "      <td>587</td>\n",
       "      <td>article 5. - le directeur du transport maritim...</td>\n",
       "      <td>Not Zone</td>\n",
       "    </tr>\n",
       "    <tr>\n",
       "      <th>53</th>\n",
       "      <td>706</td>\n",
       "      <td>article 49: -10-conformité avec la réglementat...</td>\n",
       "      <td>Not Zone</td>\n",
       "    </tr>\n",
       "    <tr>\n",
       "      <th>23</th>\n",
       "      <td>10</td>\n",
       "      <td>article 13. - la demande d'agrément doit être ...</td>\n",
       "      <td>Not Zone</td>\n",
       "    </tr>\n",
       "    <tr>\n",
       "      <th>464</th>\n",
       "      <td>5422</td>\n",
       "      <td>article 8 — la commission peut faire appel à t...</td>\n",
       "      <td>Not Zone</td>\n",
       "    </tr>\n",
       "    <tr>\n",
       "      <th>70</th>\n",
       "      <td>1166</td>\n",
       "      <td>article 10. - les dimentions des caractètres d...</td>\n",
       "      <td>Not Zone</td>\n",
       "    </tr>\n",
       "    <tr>\n",
       "      <th>382</th>\n",
       "      <td>5686</td>\n",
       "      <td>article 3. - l'agence national des affaires ma...</td>\n",
       "      <td>Not Zone</td>\n",
       "    </tr>\n",
       "    <tr>\n",
       "      <th>363</th>\n",
       "      <td>19261</td>\n",
       "      <td>article 8: composition du conseil d'administra...</td>\n",
       "      <td>Not Zone</td>\n",
       "    </tr>\n",
       "    <tr>\n",
       "      <th>73</th>\n",
       "      <td>330</td>\n",
       "      <td>article 1 : aux fins de la présente charte, on...</td>\n",
       "      <td>Not Zone</td>\n",
       "    </tr>\n",
       "  </tbody>\n",
       "</table>\n",
       "</div>"
      ],
      "text/plain": [
       "        id                                            article     label\n",
       "170    150  article 3. la présente loi ne s'applique pas a...  Not Zone\n",
       "465     85  article ler. § ler. en application de l'articl...  Not Zone\n",
       "126    587  article 5. - le directeur du transport maritim...  Not Zone\n",
       "53     706  article 49: -10-conformité avec la réglementat...  Not Zone\n",
       "23      10  article 13. - la demande d'agrément doit être ...  Not Zone\n",
       "464   5422  article 8 — la commission peut faire appel à t...  Not Zone\n",
       "70    1166  article 10. - les dimentions des caractètres d...  Not Zone\n",
       "382   5686  article 3. - l'agence national des affaires ma...  Not Zone\n",
       "363  19261  article 8: composition du conseil d'administra...  Not Zone\n",
       "73     330  article 1 : aux fins de la présente charte, on...  Not Zone"
      ]
     },
     "execution_count": 19,
     "metadata": {},
     "output_type": "execute_result"
    }
   ],
   "source": [
    "stemmer = SnowballStemmer(\"french\")\n",
    "data_preprocessed['article'] = data_preprocessed['article'].apply(lambda x: ' '.join([stemmer.stem(word) for word in x.split()]))\n",
    "\n",
    "data.head(10)"
   ]
  },
  {
   "cell_type": "code",
   "execution_count": 20,
   "id": "c00433c4",
   "metadata": {},
   "outputs": [
    {
     "name": "stdout",
     "output_type": "stream",
     "text": [
      "articl pr sent loi appliqu pav bris pav relev champ appliqu chapitr titr livr cod belged navig pipelin ble pos fond marin install autr pipelin ble plac fond marin encor usag chapitr patrimoin culturel subaquat zon maritim belg\n"
     ]
    }
   ],
   "source": [
    "print(data_preprocessed.iloc[0]['article'])"
   ]
  },
  {
   "cell_type": "code",
   "execution_count": 21,
   "id": "0b39e3fe",
   "metadata": {},
   "outputs": [],
   "source": [
    "data_preprocessed['label'] = data_preprocessed['label'].replace('Zone', 1)\n",
    "data_preprocessed['label'] = data_preprocessed['label'].replace('Not Zone', 0)"
   ]
  },
  {
   "cell_type": "code",
   "execution_count": 22,
   "id": "0cae9336",
   "metadata": {},
   "outputs": [
    {
     "data": {
      "text/html": [
       "<div>\n",
       "<style scoped>\n",
       "    .dataframe tbody tr th:only-of-type {\n",
       "        vertical-align: middle;\n",
       "    }\n",
       "\n",
       "    .dataframe tbody tr th {\n",
       "        vertical-align: top;\n",
       "    }\n",
       "\n",
       "    .dataframe thead th {\n",
       "        text-align: right;\n",
       "    }\n",
       "</style>\n",
       "<table border=\"1\" class=\"dataframe\">\n",
       "  <thead>\n",
       "    <tr style=\"text-align: right;\">\n",
       "      <th></th>\n",
       "      <th>id</th>\n",
       "      <th>article</th>\n",
       "      <th>label</th>\n",
       "    </tr>\n",
       "  </thead>\n",
       "  <tbody>\n",
       "    <tr>\n",
       "      <th>170</th>\n",
       "      <td>150</td>\n",
       "      <td>articl pr sent loi appliqu pav bris pav relev ...</td>\n",
       "      <td>0</td>\n",
       "    </tr>\n",
       "    <tr>\n",
       "      <th>465</th>\n",
       "      <td>85</td>\n",
       "      <td>articl ler ler appliqu articl sbis loi janvi v...</td>\n",
       "      <td>0</td>\n",
       "    </tr>\n",
       "    <tr>\n",
       "      <th>126</th>\n",
       "      <td>587</td>\n",
       "      <td>articl directeur transport maritim port lit to...</td>\n",
       "      <td>0</td>\n",
       "    </tr>\n",
       "    <tr>\n",
       "      <th>53</th>\n",
       "      <td>706</td>\n",
       "      <td>articl conform r glement servic environ adress...</td>\n",
       "      <td>0</td>\n",
       "    </tr>\n",
       "    <tr>\n",
       "      <th>23</th>\n",
       "      <td>10</td>\n",
       "      <td>articl demand agr ment doit tre formul e postu...</td>\n",
       "      <td>0</td>\n",
       "    </tr>\n",
       "  </tbody>\n",
       "</table>\n",
       "</div>"
      ],
      "text/plain": [
       "      id                                            article  label\n",
       "170  150  articl pr sent loi appliqu pav bris pav relev ...      0\n",
       "465   85  articl ler ler appliqu articl sbis loi janvi v...      0\n",
       "126  587  articl directeur transport maritim port lit to...      0\n",
       "53   706  articl conform r glement servic environ adress...      0\n",
       "23    10  articl demand agr ment doit tre formul e postu...      0"
      ]
     },
     "execution_count": 22,
     "metadata": {},
     "output_type": "execute_result"
    }
   ],
   "source": [
    "data_preprocessed.head()"
   ]
  },
  {
   "cell_type": "code",
   "execution_count": 23,
   "id": "bb2585ec",
   "metadata": {},
   "outputs": [
    {
     "data": {
      "text/plain": [
       "array([0, 1], dtype=int64)"
      ]
     },
     "execution_count": 23,
     "metadata": {},
     "output_type": "execute_result"
    }
   ],
   "source": [
    "data_preprocessed['label'].unique()"
   ]
  },
  {
   "cell_type": "code",
   "execution_count": 24,
   "id": "711c5adc",
   "metadata": {},
   "outputs": [],
   "source": [
    "#DataFlair - Get the labels\n",
    "labels = data_preprocessed.label"
   ]
  },
  {
   "cell_type": "code",
   "execution_count": 25,
   "id": "e5e4f70e",
   "metadata": {},
   "outputs": [],
   "source": [
    "#DataFlair - Split the dataset\n",
    "X_train, X_test, y_train, y_test = train_test_split(data_preprocessed['article'], labels, test_size=0.15, stratify=labels)"
   ]
  },
  {
   "cell_type": "code",
   "execution_count": 26,
   "id": "d4603522",
   "metadata": {},
   "outputs": [
    {
     "data": {
      "text/plain": [
       "((1081,), (191,), (1081,), (191,))"
      ]
     },
     "execution_count": 26,
     "metadata": {},
     "output_type": "execute_result"
    }
   ],
   "source": [
    "X_train.shape, X_test.shape, y_train.shape, y_test.shape"
   ]
  },
  {
   "cell_type": "code",
   "execution_count": 27,
   "id": "34d1a40f",
   "metadata": {},
   "outputs": [],
   "source": [
    "#DataFlair - Initialize a TfidfVectorizer\n",
    "tfidf_vectorizer = TfidfVectorizer(max_df=0.8, stop_words=stopwords.words('french'))\n",
    "\n",
    "#DataFlair - Fit and transform train set, transform test set\n",
    "tfidf_train = tfidf_vectorizer.fit_transform(X_train)\n",
    "tfidf_test = tfidf_vectorizer.transform(X_test)"
   ]
  },
  {
   "cell_type": "code",
   "execution_count": 60,
   "id": "16045208",
   "metadata": {},
   "outputs": [],
   "source": [
    "f = open('./tfidf_vectorizer.pkl', 'wb')\n",
    "pickle.dump(tfidf_vectorizer, f)\n",
    "f.close()"
   ]
  },
  {
   "cell_type": "code",
   "execution_count": 28,
   "id": "58c909af",
   "metadata": {},
   "outputs": [],
   "source": [
    "lr = LogisticRegression(random_state=SEED)\n",
    "xgb = xgboost.XGBClassifier(random_state=SEED)\n",
    "pac = PassiveAggressiveClassifier(random_state=SEED)##\n",
    "lgb = lightgbm.LGBMClassifier(random_state=SEED)\n",
    "ridge = RidgeClassifier(random_state=SEED)##\n",
    "rfc = RandomForestClassifier(random_state=SEED)\n",
    "svc = SVC(random_state=SEED)##\n",
    "sdgc = SGDClassifier(random_state=SEED)##\n",
    "mnnb = MultinomialNB()"
   ]
  },
  {
   "cell_type": "code",
   "execution_count": 29,
   "id": "cfdd2d64",
   "metadata": {},
   "outputs": [],
   "source": [
    "classifiers = [('Logistic Regression', lr),\n",
    "               ('XGBoost CLassifier', xgb),\n",
    "               ('Passive Aggressive Classifier', pac),\n",
    "               ('Light GBM Classifier', lgb),\n",
    "               ('Ridge Classifier', ridge),\n",
    "               ('RandomForestClassifier', rfc),\n",
    "               ('SVC', svc),\n",
    "               ('SGDClassifier', sdgc),\n",
    "               ('MultinomialNB', mnnb)\n",
    "              ]"
   ]
  },
  {
   "cell_type": "code",
   "execution_count": 30,
   "id": "0d3c9936",
   "metadata": {},
   "outputs": [
    {
     "name": "stdout",
     "output_type": "stream",
     "text": [
      "Logistic Regression : 96.34%\n",
      "XGBoost CLassifier : 95.29%\n",
      "Passive Aggressive Classifier : 96.86%\n",
      "Light GBM Classifier : 96.34%\n",
      "Ridge Classifier : 95.81%\n",
      "RandomForestClassifier : 92.67%\n",
      "SVC : 95.29%\n",
      "SGDClassifier : 95.29%\n",
      "MultinomialNB : 94.76%\n"
     ]
    }
   ],
   "source": [
    "for clf_name, clf in classifiers:\n",
    "    #fit clf to the training set\n",
    "    clf.fit(tfidf_train, y_train)\n",
    "    \n",
    "    #Predict the labels of the test set\n",
    "    y_pred = clf.predict(tfidf_test)\n",
    "    \n",
    "    #Evaluate the accuracy of clf on the test set\n",
    "    score = accuracy_score(y_test, y_pred)\n",
    "    print(\"{:s} : {:}%\".format(clf_name, round(score*100, 2)))"
   ]
  },
  {
   "cell_type": "code",
   "execution_count": 32,
   "id": "938428b7",
   "metadata": {},
   "outputs": [
    {
     "name": "stdout",
     "output_type": "stream",
     "text": [
      "Voting Classifier : 96.34%\n"
     ]
    }
   ],
   "source": [
    "vc = VotingClassifier(estimators=classifiers)\n",
    "\n",
    "vc.fit(tfidf_train, y_train)\n",
    "y_pred = vc.predict(tfidf_test)\n",
    "\n",
    "score = accuracy_score(y_test, y_pred)\n",
    "print(\"Voting Classifier : {:}%\".format(round(score*100, 2)))"
   ]
  },
  {
   "cell_type": "code",
   "execution_count": 33,
   "id": "78d0b012",
   "metadata": {},
   "outputs": [],
   "source": [
    "import joblib\n",
    "\n",
    "# Save the classifier to a file\n",
    "joblib.dump(vc, 'Classifier_Zone_Not_Zone.pkl')\n",
    "\n",
    "# Load the classifier from the file\n",
    "voting_clf = joblib.load('Classifier_Zone_Not_Zone.pkl')"
   ]
  },
  {
   "cell_type": "code",
   "execution_count": 34,
   "id": "414f6346",
   "metadata": {},
   "outputs": [],
   "source": [
    "name = \"model_96.34\""
   ]
  },
  {
   "cell_type": "code",
   "execution_count": 35,
   "id": "755ada18",
   "metadata": {},
   "outputs": [],
   "source": [
    "f = open('./'+name+'.pkl', 'wb')\n",
    "pickle.dump(vc, f)\n",
    "f.close()"
   ]
  },
  {
   "cell_type": "code",
   "execution_count": 36,
   "id": "eba5d241",
   "metadata": {},
   "outputs": [],
   "source": [
    "# f = open('./'+name+'.pkl', 'rb')\n",
    "# classifier = pickle.load(f)\n",
    "# f.close()"
   ]
  },
  {
   "cell_type": "markdown",
   "id": "37794840",
   "metadata": {},
   "source": [
    "# Test:"
   ]
  },
  {
   "cell_type": "code",
   "execution_count": 37,
   "id": "b348a371",
   "metadata": {},
   "outputs": [
    {
     "name": "stdout",
     "output_type": "stream",
     "text": [
      "[[93  2]\n",
      " [ 5 91]]\n"
     ]
    }
   ],
   "source": [
    "#DataFlair - Build confusion matrix\n",
    "cf_matrix = confusion_matrix(y_test, y_pred)\n",
    "print(cf_matrix)"
   ]
  },
  {
   "cell_type": "code",
   "execution_count": 38,
   "id": "1265df67",
   "metadata": {},
   "outputs": [
    {
     "name": "stdout",
     "output_type": "stream",
     "text": [
      "0    95\n",
      "Name: label, dtype: int64\n",
      "1    96\n",
      "Name: label, dtype: int64\n"
     ]
    }
   ],
   "source": [
    "label_0 = y_test[y_test==0].value_counts()\n",
    "print(label_0)\n",
    "\n",
    "label_1 = y_test[y_test==1].value_counts()\n",
    "print(label_1)"
   ]
  },
  {
   "cell_type": "code",
   "execution_count": 42,
   "id": "6a6072d8",
   "metadata": {},
   "outputs": [
    {
     "data": {
      "image/png": "[encoded data removed]",
      "text/plain": [
       "<Figure size 360x360 with 1 Axes>"
      ]
     },
     "metadata": {
      "needs_background": "light"
     },
     "output_type": "display_data"
    }
   ],
   "source": [
    "group_names = ['Not Zone predicted Not Zone', 'Not Zone predicted Zone', 'Zone predicted Not Zone', 'Zone predicted Zone']\n",
    "group_counts = ['{0:0.0f}'.format(value) for value in cf_matrix.flatten()]\n",
    "group_percentages = ['{0:.2%}'.format(value) for value in cf_matrix.flatten()/np.sum(cf_matrix)]\n",
    "labels = [f'{v1}\\n{v2}\\n{v3}' for v1, v2, v3 in zip(group_names, group_counts, group_percentages)]\n",
    "labels = np.asarray(labels).reshape(2,2)\n",
    "\n",
    "fig, ax = plt.subplots(figsize=(5,5));\n",
    "sns.heatmap(cf_matrix, annot=labels, fmt='', xticklabels=['Not Zone', 'Zone'], yticklabels=['Not Zone', 'Zone'], cbar=False);\n",
    "plt.ylabel('Actual');\n",
    "plt.xlabel('Predicted');"
   ]
  },
  {
   "cell_type": "code",
   "execution_count": 43,
   "id": "27c226d7",
   "metadata": {},
   "outputs": [],
   "source": [
    "def test_model(model, article):\n",
    "    article_preprocessed = preprocess_text(article)\n",
    "    article_preprocessed_1 = ' '.join([stemmer.stem(word) for word in article_preprocessed.split()])\n",
    "    tfidf_article = tfidf_vectorizer.transform([article_preprocessed_1])\n",
    "    prediction = model.predict(tfidf_article)\n",
    "    if prediction[0] == 1:\n",
    "        return 'Zone'\n",
    "    return 'Not Zone'"
   ]
  },
  {
   "cell_type": "markdown",
   "id": "e34348f5",
   "metadata": {},
   "source": [
    "# Active learning:"
   ]
  },
  {
   "cell_type": "code",
   "execution_count": 45,
   "id": "81f381e0",
   "metadata": {},
   "outputs": [],
   "source": [
    "#Read the data\n",
    "unlabeled_data = pd.read_csv('Other_Articles.csv', usecols=['Article'])#, usecols=['text','label'])"
   ]
  },
  {
   "cell_type": "code",
   "execution_count": 46,
   "id": "d63c4606",
   "metadata": {},
   "outputs": [
    {
     "data": {
      "text/plain": [
       "(13992, 1)"
      ]
     },
     "execution_count": 46,
     "metadata": {},
     "output_type": "execute_result"
    }
   ],
   "source": [
    "unlabeled_data.shape"
   ]
  },
  {
   "cell_type": "code",
   "execution_count": 49,
   "id": "75fd77c5",
   "metadata": {},
   "outputs": [],
   "source": [
    "unlabeled_data.columns = ['article']"
   ]
  },
  {
   "cell_type": "code",
   "execution_count": 50,
   "id": "e1cf52e3",
   "metadata": {},
   "outputs": [
    {
     "data": {
      "text/html": [
       "<div>\n",
       "<style scoped>\n",
       "    .dataframe tbody tr th:only-of-type {\n",
       "        vertical-align: middle;\n",
       "    }\n",
       "\n",
       "    .dataframe tbody tr th {\n",
       "        vertical-align: top;\n",
       "    }\n",
       "\n",
       "    .dataframe thead th {\n",
       "        text-align: right;\n",
       "    }\n",
       "</style>\n",
       "<table border=\"1\" class=\"dataframe\">\n",
       "  <thead>\n",
       "    <tr style=\"text-align: right;\">\n",
       "      <th></th>\n",
       "      <th>article</th>\n",
       "    </tr>\n",
       "  </thead>\n",
       "  <tbody>\n",
       "    <tr>\n",
       "      <th>0</th>\n",
       "      <td>Article premier La largeur des zones maritimes...</td>\n",
       "    </tr>\n",
       "    <tr>\n",
       "      <th>1</th>\n",
       "      <td>Article 3 Les eaux comprises dans les lignes d...</td>\n",
       "    </tr>\n",
       "    <tr>\n",
       "      <th>2</th>\n",
       "      <td>Article 4 Le présent décret sera publié au Jou...</td>\n",
       "    </tr>\n",
       "    <tr>\n",
       "      <th>3</th>\n",
       "      <td>Article 1: La largeur des eaux territoriales a...</td>\n",
       "    </tr>\n",
       "    <tr>\n",
       "      <th>4</th>\n",
       "      <td>Article 2 : A l’intérieur des eaux territorial...</td>\n",
       "    </tr>\n",
       "  </tbody>\n",
       "</table>\n",
       "</div>"
      ],
      "text/plain": [
       "                                             article\n",
       "0  Article premier La largeur des zones maritimes...\n",
       "1  Article 3 Les eaux comprises dans les lignes d...\n",
       "2  Article 4 Le présent décret sera publié au Jou...\n",
       "3  Article 1: La largeur des eaux territoriales a...\n",
       "4  Article 2 : A l’intérieur des eaux territorial..."
      ]
     },
     "execution_count": 50,
     "metadata": {},
     "output_type": "execute_result"
    }
   ],
   "source": [
    "unlabeled_data.head()"
   ]
  },
  {
   "cell_type": "code",
   "execution_count": 51,
   "id": "7fac5b0e",
   "metadata": {},
   "outputs": [],
   "source": [
    "unlabeled_data['article'] = unlabeled_data['article'].apply(lambda x: \" \".join(x.strip().lower().split()))"
   ]
  },
  {
   "cell_type": "code",
   "execution_count": 52,
   "id": "a7c7e165",
   "metadata": {},
   "outputs": [],
   "source": [
    "data_to_annotate = pd.concat([data.drop(columns=['label', 'id']), unlabeled_data])"
   ]
  },
  {
   "cell_type": "code",
   "execution_count": 53,
   "id": "51bc7d9a",
   "metadata": {},
   "outputs": [
    {
     "data": {
      "text/plain": [
       "(15264, 1)"
      ]
     },
     "execution_count": 53,
     "metadata": {},
     "output_type": "execute_result"
    }
   ],
   "source": [
    "data_to_annotate.shape"
   ]
  },
  {
   "cell_type": "code",
   "execution_count": 54,
   "id": "6df12ead",
   "metadata": {},
   "outputs": [],
   "source": [
    "data_to_annotate.drop_duplicates(keep=False, inplace=True)"
   ]
  },
  {
   "cell_type": "code",
   "execution_count": 55,
   "id": "6cfddb7b",
   "metadata": {},
   "outputs": [
    {
     "data": {
      "text/plain": [
       "(8722, 1)"
      ]
     },
     "execution_count": 55,
     "metadata": {},
     "output_type": "execute_result"
    }
   ],
   "source": [
    "data_to_annotate.shape"
   ]
  },
  {
   "cell_type": "code",
   "execution_count": 56,
   "id": "c073fbe3",
   "metadata": {},
   "outputs": [],
   "source": [
    "data_to_annotate['index'] = data_to_annotate.index"
   ]
  },
  {
   "cell_type": "code",
   "execution_count": 57,
   "id": "171f5930",
   "metadata": {},
   "outputs": [
    {
     "data": {
      "text/html": [
       "<div>\n",
       "<style scoped>\n",
       "    .dataframe tbody tr th:only-of-type {\n",
       "        vertical-align: middle;\n",
       "    }\n",
       "\n",
       "    .dataframe tbody tr th {\n",
       "        vertical-align: top;\n",
       "    }\n",
       "\n",
       "    .dataframe thead th {\n",
       "        text-align: right;\n",
       "    }\n",
       "</style>\n",
       "<table border=\"1\" class=\"dataframe\">\n",
       "  <thead>\n",
       "    <tr style=\"text-align: right;\">\n",
       "      <th></th>\n",
       "      <th>article</th>\n",
       "      <th>index</th>\n",
       "    </tr>\n",
       "  </thead>\n",
       "  <tbody>\n",
       "    <tr>\n",
       "      <th>73</th>\n",
       "      <td>article 1 : aux fins de la présente charte, on...</td>\n",
       "      <td>73</td>\n",
       "    </tr>\n",
       "    <tr>\n",
       "      <th>307</th>\n",
       "      <td>article 1\"\". - aux fins des articles 32 4 39 l...</td>\n",
       "      <td>307</td>\n",
       "    </tr>\n",
       "    <tr>\n",
       "      <th>521</th>\n",
       "      <td>article 31. les exploitations ne peuvent avoir...</td>\n",
       "      <td>521</td>\n",
       "    </tr>\n",
       "    <tr>\n",
       "      <th>536</th>\n",
       "      <td>article 9. - les centres régionaux, prévus ci-...</td>\n",
       "      <td>536</td>\n",
       "    </tr>\n",
       "    <tr>\n",
       "      <th>290</th>\n",
       "      <td>article premier est inséré dans le code de la ...</td>\n",
       "      <td>290</td>\n",
       "    </tr>\n",
       "  </tbody>\n",
       "</table>\n",
       "</div>"
      ],
      "text/plain": [
       "                                               article  index\n",
       "73   article 1 : aux fins de la présente charte, on...     73\n",
       "307  article 1\"\". - aux fins des articles 32 4 39 l...    307\n",
       "521  article 31. les exploitations ne peuvent avoir...    521\n",
       "536  article 9. - les centres régionaux, prévus ci-...    536\n",
       "290  article premier est inséré dans le code de la ...    290"
      ]
     },
     "execution_count": 57,
     "metadata": {},
     "output_type": "execute_result"
    }
   ],
   "source": [
    "data_to_annotate.head()"
   ]
  },
  {
   "cell_type": "code",
   "execution_count": 58,
   "id": "6e8f8dcb",
   "metadata": {},
   "outputs": [],
   "source": [
    "data_preprocessed_to_annotate = data_to_annotate.copy()"
   ]
  },
  {
   "cell_type": "code",
   "execution_count": 59,
   "id": "ae8431ec",
   "metadata": {},
   "outputs": [
    {
     "data": {
      "text/html": [
       "<div>\n",
       "<style scoped>\n",
       "    .dataframe tbody tr th:only-of-type {\n",
       "        vertical-align: middle;\n",
       "    }\n",
       "\n",
       "    .dataframe tbody tr th {\n",
       "        vertical-align: top;\n",
       "    }\n",
       "\n",
       "    .dataframe thead th {\n",
       "        text-align: right;\n",
       "    }\n",
       "</style>\n",
       "<table border=\"1\" class=\"dataframe\">\n",
       "  <thead>\n",
       "    <tr style=\"text-align: right;\">\n",
       "      <th></th>\n",
       "      <th>article</th>\n",
       "      <th>index</th>\n",
       "    </tr>\n",
       "  </thead>\n",
       "  <tbody>\n",
       "    <tr>\n",
       "      <th>73</th>\n",
       "      <td>article fins pr sente charte entend a charte m...</td>\n",
       "      <td>73</td>\n",
       "    </tr>\n",
       "    <tr>\n",
       "      <th>307</th>\n",
       "      <td>article fins articles ordonnance prg mai porta...</td>\n",
       "      <td>307</td>\n",
       "    </tr>\n",
       "    <tr>\n",
       "      <th>521</th>\n",
       "      <td>article exploitations peuvent avoir lieu zones...</td>\n",
       "      <td>521</td>\n",
       "    </tr>\n",
       "    <tr>\n",
       "      <th>536</th>\n",
       "      <td>article centres r gionaux pr vus ci dessus hab...</td>\n",
       "      <td>536</td>\n",
       "    </tr>\n",
       "    <tr>\n",
       "      <th>290</th>\n",
       "      <td>article premier ins r code mer troisi partie a...</td>\n",
       "      <td>290</td>\n",
       "    </tr>\n",
       "    <tr>\n",
       "      <th>4</th>\n",
       "      <td>article base compte rendu reconnaissance fonct...</td>\n",
       "      <td>4</td>\n",
       "    </tr>\n",
       "    <tr>\n",
       "      <th>236</th>\n",
       "      <td>article attendant promulgation loi portant cod...</td>\n",
       "      <td>236</td>\n",
       "    </tr>\n",
       "    <tr>\n",
       "      <th>186</th>\n",
       "      <td>article fins pr sent arr entend ministre minis...</td>\n",
       "      <td>186</td>\n",
       "    </tr>\n",
       "    <tr>\n",
       "      <th>45</th>\n",
       "      <td>article premier ministre charg ex cution pr se...</td>\n",
       "      <td>45</td>\n",
       "    </tr>\n",
       "    <tr>\n",
       "      <th>288</th>\n",
       "      <td>article er application articles ordonnance prg...</td>\n",
       "      <td>288</td>\n",
       "    </tr>\n",
       "  </tbody>\n",
       "</table>\n",
       "</div>"
      ],
      "text/plain": [
       "                                               article  index\n",
       "73   article fins pr sente charte entend a charte m...     73\n",
       "307  article fins articles ordonnance prg mai porta...    307\n",
       "521  article exploitations peuvent avoir lieu zones...    521\n",
       "536  article centres r gionaux pr vus ci dessus hab...    536\n",
       "290  article premier ins r code mer troisi partie a...    290\n",
       "4    article base compte rendu reconnaissance fonct...      4\n",
       "236  article attendant promulgation loi portant cod...    236\n",
       "186  article fins pr sent arr entend ministre minis...    186\n",
       "45   article premier ministre charg ex cution pr se...     45\n",
       "288  article er application articles ordonnance prg...    288"
      ]
     },
     "execution_count": 59,
     "metadata": {},
     "output_type": "execute_result"
    }
   ],
   "source": [
    "# data[\"article\"] = data[\"article\"].apply(lambda x: preprocess_text(x, remove_stopwords=True))\n",
    "data_preprocessed_to_annotate[\"article\"] = data_preprocessed_to_annotate[\"article\"].apply(preprocess_text)\n",
    "data_preprocessed_to_annotate.head(10)"
   ]
  },
  {
   "cell_type": "code",
   "execution_count": 60,
   "id": "9c0b1516",
   "metadata": {},
   "outputs": [
    {
     "data": {
      "text/plain": [
       "(8722, 2)"
      ]
     },
     "execution_count": 60,
     "metadata": {},
     "output_type": "execute_result"
    }
   ],
   "source": [
    "#Get shape\n",
    "data_preprocessed_to_annotate.shape"
   ]
  },
  {
   "cell_type": "code",
   "execution_count": 61,
   "id": "71b328cb",
   "metadata": {},
   "outputs": [
    {
     "data": {
      "text/html": [
       "<div>\n",
       "<style scoped>\n",
       "    .dataframe tbody tr th:only-of-type {\n",
       "        vertical-align: middle;\n",
       "    }\n",
       "\n",
       "    .dataframe tbody tr th {\n",
       "        vertical-align: top;\n",
       "    }\n",
       "\n",
       "    .dataframe thead th {\n",
       "        text-align: right;\n",
       "    }\n",
       "</style>\n",
       "<table border=\"1\" class=\"dataframe\">\n",
       "  <thead>\n",
       "    <tr style=\"text-align: right;\">\n",
       "      <th></th>\n",
       "      <th>article</th>\n",
       "      <th>index</th>\n",
       "    </tr>\n",
       "  </thead>\n",
       "  <tbody>\n",
       "    <tr>\n",
       "      <th>73</th>\n",
       "      <td>articl fin pr sent chart entend a chart mariti...</td>\n",
       "      <td>73</td>\n",
       "    </tr>\n",
       "    <tr>\n",
       "      <th>307</th>\n",
       "      <td>articl fin articl ordon prg mai port cod envri...</td>\n",
       "      <td>307</td>\n",
       "    </tr>\n",
       "    <tr>\n",
       "      <th>521</th>\n",
       "      <td>articl exploit peuvent avoir lieu zon contr se...</td>\n",
       "      <td>521</td>\n",
       "    </tr>\n",
       "    <tr>\n",
       "      <th>536</th>\n",
       "      <td>articl centr r gional pr vus ci dessus habil o...</td>\n",
       "      <td>536</td>\n",
       "    </tr>\n",
       "    <tr>\n",
       "      <th>290</th>\n",
       "      <td>articl premi in r cod mer trois part arr minis...</td>\n",
       "      <td>290</td>\n",
       "    </tr>\n",
       "    <tr>\n",
       "      <th>4</th>\n",
       "      <td>articl bas compt rendu reconnaiss fonction gra...</td>\n",
       "      <td>4</td>\n",
       "    </tr>\n",
       "    <tr>\n",
       "      <th>236</th>\n",
       "      <td>articl attend promulg loi port cod p troli r p...</td>\n",
       "      <td>236</td>\n",
       "    </tr>\n",
       "    <tr>\n",
       "      <th>186</th>\n",
       "      <td>articl fin pr sent arr entend ministr ministr ...</td>\n",
       "      <td>186</td>\n",
       "    </tr>\n",
       "    <tr>\n",
       "      <th>45</th>\n",
       "      <td>articl premi ministr charg ex cution pr sent c...</td>\n",
       "      <td>45</td>\n",
       "    </tr>\n",
       "    <tr>\n",
       "      <th>288</th>\n",
       "      <td>articl er appliqu articl ordon prg mai port co...</td>\n",
       "      <td>288</td>\n",
       "    </tr>\n",
       "  </tbody>\n",
       "</table>\n",
       "</div>"
      ],
      "text/plain": [
       "                                               article  index\n",
       "73   articl fin pr sent chart entend a chart mariti...     73\n",
       "307  articl fin articl ordon prg mai port cod envri...    307\n",
       "521  articl exploit peuvent avoir lieu zon contr se...    521\n",
       "536  articl centr r gional pr vus ci dessus habil o...    536\n",
       "290  articl premi in r cod mer trois part arr minis...    290\n",
       "4    articl bas compt rendu reconnaiss fonction gra...      4\n",
       "236  articl attend promulg loi port cod p troli r p...    236\n",
       "186  articl fin pr sent arr entend ministr ministr ...    186\n",
       "45   articl premi ministr charg ex cution pr sent c...     45\n",
       "288  articl er appliqu articl ordon prg mai port co...    288"
      ]
     },
     "execution_count": 61,
     "metadata": {},
     "output_type": "execute_result"
    }
   ],
   "source": [
    "stemmer = SnowballStemmer(\"french\")\n",
    "data_preprocessed_to_annotate['article'] = data_preprocessed_to_annotate['article'].apply(lambda x: ' '.join([stemmer.stem(word) for word in x.split()]))\n",
    "\n",
    "data_preprocessed_to_annotate.head(10)"
   ]
  },
  {
   "cell_type": "code",
   "execution_count": 62,
   "id": "20416e42",
   "metadata": {},
   "outputs": [
    {
     "data": {
      "text/plain": [
       "(8722, 2)"
      ]
     },
     "execution_count": 62,
     "metadata": {},
     "output_type": "execute_result"
    }
   ],
   "source": [
    "#Get shape\n",
    "data_preprocessed_to_annotate.shape"
   ]
  },
  {
   "cell_type": "code",
   "execution_count": 65,
   "id": "63197072",
   "metadata": {},
   "outputs": [],
   "source": [
    "Classifiers = [('Logistic Regression', lr),\n",
    "               ('XGBoost CLassifier', xgb),\n",
    "               ('Light GBM Classifier', lgb),\n",
    "               ('RandomForestClassifier', rfc),\n",
    "               ('MultinomialNB', mnnb)\n",
    "              ]"
   ]
  },
  {
   "cell_type": "code",
   "execution_count": 66,
   "id": "f24f79f1",
   "metadata": {},
   "outputs": [
    {
     "name": "stdout",
     "output_type": "stream",
     "text": [
      "Voting Classifier : 95.81%\n"
     ]
    }
   ],
   "source": [
    "voting_classifier = VotingClassifier(estimators=Classifiers, voting='soft')\n",
    "\n",
    "voting_classifier.fit(tfidf_train, y_train)\n",
    "y_pred = voting_classifier.predict(tfidf_test)\n",
    "\n",
    "score = accuracy_score(y_test, y_pred)\n",
    "print(\"Voting Classifier : {:}%\".format(round(score*100, 2)))"
   ]
  },
  {
   "cell_type": "code",
   "execution_count": 67,
   "id": "2c7ae0cb",
   "metadata": {},
   "outputs": [],
   "source": [
    "def prob(model, article):\n",
    "    article_preprocessed = preprocess_text(article)\n",
    "    article_preprocessed = ' '.join([stemmer.stem(word) for word in article_preprocessed.split()])\n",
    "    tfidf_article = tfidf_vectorizer.transform([article_preprocessed])\n",
    "    prediction = model.predict_proba(tfidf_article)\n",
    "    return [article, prediction[0][0], prediction[0][1]]"
   ]
  },
  {
   "cell_type": "code",
   "execution_count": 68,
   "id": "c54e3e83",
   "metadata": {},
   "outputs": [],
   "source": [
    "liste = []\n",
    "for i in data_to_annotate['article']:\n",
    "    liste.append(prob(voting_classifier, i))"
   ]
  },
  {
   "cell_type": "code",
   "execution_count": 69,
   "id": "7e907589",
   "metadata": {},
   "outputs": [
    {
     "data": {
      "text/plain": [
       "8722"
      ]
     },
     "execution_count": 69,
     "metadata": {},
     "output_type": "execute_result"
    }
   ],
   "source": [
    "len(liste)"
   ]
  },
  {
   "cell_type": "code",
   "execution_count": 70,
   "id": "f6fb8042",
   "metadata": {},
   "outputs": [
    {
     "data": {
      "text/html": [
       "<div>\n",
       "<style scoped>\n",
       "    .dataframe tbody tr th:only-of-type {\n",
       "        vertical-align: middle;\n",
       "    }\n",
       "\n",
       "    .dataframe tbody tr th {\n",
       "        vertical-align: top;\n",
       "    }\n",
       "\n",
       "    .dataframe thead th {\n",
       "        text-align: right;\n",
       "    }\n",
       "</style>\n",
       "<table border=\"1\" class=\"dataframe\">\n",
       "  <thead>\n",
       "    <tr style=\"text-align: right;\">\n",
       "      <th></th>\n",
       "      <th>article</th>\n",
       "      <th>Not Zone</th>\n",
       "      <th>Zone</th>\n",
       "    </tr>\n",
       "  </thead>\n",
       "  <tbody>\n",
       "    <tr>\n",
       "      <th>0</th>\n",
       "      <td>article 1 : aux fins de la présente charte, on...</td>\n",
       "      <td>0.955909</td>\n",
       "      <td>0.044091</td>\n",
       "    </tr>\n",
       "    <tr>\n",
       "      <th>1</th>\n",
       "      <td>article 1\"\". - aux fins des articles 32 4 39 l...</td>\n",
       "      <td>0.897098</td>\n",
       "      <td>0.102902</td>\n",
       "    </tr>\n",
       "    <tr>\n",
       "      <th>2</th>\n",
       "      <td>article 31. les exploitations ne peuvent avoir...</td>\n",
       "      <td>0.877191</td>\n",
       "      <td>0.122809</td>\n",
       "    </tr>\n",
       "    <tr>\n",
       "      <th>3</th>\n",
       "      <td>article 9. - les centres régionaux, prévus ci-...</td>\n",
       "      <td>0.848470</td>\n",
       "      <td>0.151530</td>\n",
       "    </tr>\n",
       "    <tr>\n",
       "      <th>4</th>\n",
       "      <td>article premier est inséré dans le code de la ...</td>\n",
       "      <td>0.776979</td>\n",
       "      <td>0.223021</td>\n",
       "    </tr>\n",
       "  </tbody>\n",
       "</table>\n",
       "</div>"
      ],
      "text/plain": [
       "                                             article  Not Zone      Zone\n",
       "0  article 1 : aux fins de la présente charte, on...  0.955909  0.044091\n",
       "1  article 1\"\". - aux fins des articles 32 4 39 l...  0.897098  0.102902\n",
       "2  article 31. les exploitations ne peuvent avoir...  0.877191  0.122809\n",
       "3  article 9. - les centres régionaux, prévus ci-...  0.848470  0.151530\n",
       "4  article premier est inséré dans le code de la ...  0.776979  0.223021"
      ]
     },
     "execution_count": 70,
     "metadata": {},
     "output_type": "execute_result"
    }
   ],
   "source": [
    "df = pd.DataFrame(liste)\n",
    "df.columns = ['article', 'Not Zone', 'Zone']\n",
    "df.head()"
   ]
  },
  {
   "cell_type": "code",
   "execution_count": 71,
   "id": "b322eca6",
   "metadata": {},
   "outputs": [],
   "source": [
    "df_high_labeled_zone = df[df['Zone'] >= 0.95][['article', 'Zone']]\n",
    "df_high_labeled_not_zone = df[df['Not Zone'] >= 0.95][['article', 'Not Zone']]"
   ]
  },
  {
   "cell_type": "code",
   "execution_count": 72,
   "id": "d95558a0",
   "metadata": {},
   "outputs": [
    {
     "data": {
      "text/plain": [
       "((0, 2), (216, 2))"
      ]
     },
     "execution_count": 72,
     "metadata": {},
     "output_type": "execute_result"
    }
   ],
   "source": [
    "df_high_labeled_zone.shape, df_high_labeled_not_zone.shape"
   ]
  },
  {
   "cell_type": "code",
   "execution_count": 73,
   "id": "41922840",
   "metadata": {},
   "outputs": [],
   "source": [
    "for index, row in df_high_labeled_zone.iterrows():\n",
    "    idx = random.randint(1, 20000)\n",
    "    while idx in dataset['id']:\n",
    "        idx = random.randint(1, 20000)\n",
    "    new_row = {'id':idx, 'article':row[\"article\"], 'label':'Zone'}\n",
    "    dataset = dataset.append(new_row, ignore_index=True)"
   ]
  },
  {
   "cell_type": "code",
   "execution_count": 74,
   "id": "076cbf6a",
   "metadata": {},
   "outputs": [
    {
     "data": {
      "text/plain": [
       "(1272, 3)"
      ]
     },
     "execution_count": 74,
     "metadata": {},
     "output_type": "execute_result"
    }
   ],
   "source": [
    "dataset.shape"
   ]
  },
  {
   "cell_type": "code",
   "execution_count": 75,
   "id": "571514d6",
   "metadata": {},
   "outputs": [],
   "source": [
    "for index, row in df_high_labeled_not_zone.iterrows():\n",
    "    idx = random.randint(1, 20000)\n",
    "    while idx in dataset['id']:\n",
    "        idx = random.randint(1, 20000)\n",
    "    new_row = {'id':idx, 'article':row[\"article\"], 'label':'Not Zone'}\n",
    "    dataset = dataset.append(new_row, ignore_index=True)"
   ]
  },
  {
   "cell_type": "code",
   "execution_count": 76,
   "id": "6cd006a6",
   "metadata": {},
   "outputs": [
    {
     "data": {
      "text/plain": [
       "(1272, 3)"
      ]
     },
     "execution_count": 76,
     "metadata": {},
     "output_type": "execute_result"
    }
   ],
   "source": [
    "dataset.shape"
   ]
  },
  {
   "cell_type": "code",
   "execution_count": 319,
   "id": "aa9e4d8a",
   "metadata": {},
   "outputs": [],
   "source": [
    "dataset.to_csv('Data.csv')"
   ]
  }
 ],
 "metadata": {
  "kernelspec": {
   "display_name": "Python 3 (ipykernel)",
   "language": "python",
   "name": "python3"
  },
  "language_info": {
   "codemirror_mode": {
    "name": "ipython",
    "version": 3
   },
   "file_extension": ".py",
   "mimetype": "text/x-python",
   "name": "python",
   "nbconvert_exporter": "python",
   "pygments_lexer": "ipython3",
   "version": "3.9.7"
  }
 },
 "nbformat": 4,
 "nbformat_minor": 5
}

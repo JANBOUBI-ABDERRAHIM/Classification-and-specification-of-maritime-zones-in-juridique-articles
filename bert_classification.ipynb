{
 "cells": [
  {
   "cell_type": "code",
   "execution_count": 1,
   "metadata": {},
   "outputs": [],
   "source": [
    "import pandas as pd"
   ]
  },
  {
   "cell_type": "code",
   "execution_count": 3,
   "metadata": {},
   "outputs": [
    {
     "data": {
      "text/html": [
       "<div>\n",
       "<style scoped>\n",
       "    .dataframe tbody tr th:only-of-type {\n",
       "        vertical-align: middle;\n",
       "    }\n",
       "\n",
       "    .dataframe tbody tr th {\n",
       "        vertical-align: top;\n",
       "    }\n",
       "\n",
       "    .dataframe thead th {\n",
       "        text-align: right;\n",
       "    }\n",
       "</style>\n",
       "<table border=\"1\" class=\"dataframe\">\n",
       "  <thead>\n",
       "    <tr style=\"text-align: right;\">\n",
       "      <th></th>\n",
       "      <th>id</th>\n",
       "      <th>article</th>\n",
       "      <th>label</th>\n",
       "    </tr>\n",
       "  </thead>\n",
       "  <tbody>\n",
       "    <tr>\n",
       "      <th>0</th>\n",
       "      <td>10909</td>\n",
       "      <td>article 7. - le conseil des professeurs il est...</td>\n",
       "      <td>Not Zone</td>\n",
       "    </tr>\n",
       "    <tr>\n",
       "      <th>1</th>\n",
       "      <td>571</td>\n",
       "      <td>article 3. — les ouvrages ou installations son...</td>\n",
       "      <td>Not Zone</td>\n",
       "    </tr>\n",
       "    <tr>\n",
       "      <th>2</th>\n",
       "      <td>10509</td>\n",
       "      <td>article l. 365-1. - la responsabilité civile o...</td>\n",
       "      <td>Not Zone</td>\n",
       "    </tr>\n",
       "    <tr>\n",
       "      <th>3</th>\n",
       "      <td>2572</td>\n",
       "      <td>article 23. le conseil d'administration ne peu...</td>\n",
       "      <td>Not Zone</td>\n",
       "    </tr>\n",
       "    <tr>\n",
       "      <th>4</th>\n",
       "      <td>36</td>\n",
       "      <td>article 14. - sur la base du compte rendu de r...</td>\n",
       "      <td>Not Zone</td>\n",
       "    </tr>\n",
       "  </tbody>\n",
       "</table>\n",
       "</div>"
      ],
      "text/plain": [
       "      id                                            article     label\n",
       "0  10909  article 7. - le conseil des professeurs il est...  Not Zone\n",
       "1    571  article 3. — les ouvrages ou installations son...  Not Zone\n",
       "2  10509  article l. 365-1. - la responsabilité civile o...  Not Zone\n",
       "3   2572  article 23. le conseil d'administration ne peu...  Not Zone\n",
       "4     36  article 14. - sur la base du compte rendu de r...  Not Zone"
      ]
     },
     "execution_count": 3,
     "metadata": {},
     "output_type": "execute_result"
    }
   ],
   "source": [
    "df= pd.read_csv(\"./OldData_and_newData.csv\", usecols=['id', 'article','label'])\n",
    "df.head()"
   ]
  },
  {
   "cell_type": "code",
   "execution_count": 4,
   "metadata": {},
   "outputs": [
    {
     "data": {
      "text/plain": [
       "1272"
      ]
     },
     "execution_count": 4,
     "metadata": {},
     "output_type": "execute_result"
    }
   ],
   "source": [
    "len(df)"
   ]
  },
  {
   "cell_type": "code",
   "execution_count": 5,
   "metadata": {},
   "outputs": [
    {
     "data": {
      "text/html": [
       "<div>\n",
       "<style scoped>\n",
       "    .dataframe tbody tr th:only-of-type {\n",
       "        vertical-align: middle;\n",
       "    }\n",
       "\n",
       "    .dataframe tbody tr th {\n",
       "        vertical-align: top;\n",
       "    }\n",
       "\n",
       "    .dataframe thead th {\n",
       "        text-align: right;\n",
       "    }\n",
       "</style>\n",
       "<table border=\"1\" class=\"dataframe\">\n",
       "  <thead>\n",
       "    <tr style=\"text-align: right;\">\n",
       "      <th></th>\n",
       "      <th>id</th>\n",
       "      <th>article</th>\n",
       "      <th>label</th>\n",
       "      <th>Zone</th>\n",
       "    </tr>\n",
       "  </thead>\n",
       "  <tbody>\n",
       "    <tr>\n",
       "      <th>0</th>\n",
       "      <td>10909</td>\n",
       "      <td>article 7. - le conseil des professeurs il est...</td>\n",
       "      <td>Not Zone</td>\n",
       "      <td>0</td>\n",
       "    </tr>\n",
       "    <tr>\n",
       "      <th>1</th>\n",
       "      <td>571</td>\n",
       "      <td>article 3. — les ouvrages ou installations son...</td>\n",
       "      <td>Not Zone</td>\n",
       "      <td>0</td>\n",
       "    </tr>\n",
       "    <tr>\n",
       "      <th>2</th>\n",
       "      <td>10509</td>\n",
       "      <td>article l. 365-1. - la responsabilité civile o...</td>\n",
       "      <td>Not Zone</td>\n",
       "      <td>0</td>\n",
       "    </tr>\n",
       "    <tr>\n",
       "      <th>3</th>\n",
       "      <td>2572</td>\n",
       "      <td>article 23. le conseil d'administration ne peu...</td>\n",
       "      <td>Not Zone</td>\n",
       "      <td>0</td>\n",
       "    </tr>\n",
       "    <tr>\n",
       "      <th>4</th>\n",
       "      <td>36</td>\n",
       "      <td>article 14. - sur la base du compte rendu de r...</td>\n",
       "      <td>Not Zone</td>\n",
       "      <td>0</td>\n",
       "    </tr>\n",
       "    <tr>\n",
       "      <th>...</th>\n",
       "      <td>...</td>\n",
       "      <td>...</td>\n",
       "      <td>...</td>\n",
       "      <td>...</td>\n",
       "    </tr>\n",
       "    <tr>\n",
       "      <th>1267</th>\n",
       "      <td>12800</td>\n",
       "      <td>article 4 : les limites des aires centrales so...</td>\n",
       "      <td>Zone</td>\n",
       "      <td>1</td>\n",
       "    </tr>\n",
       "    <tr>\n",
       "      <th>1268</th>\n",
       "      <td>4948</td>\n",
       "      <td>article 3. - la directrice de la nature et des...</td>\n",
       "      <td>Zone</td>\n",
       "      <td>1</td>\n",
       "    </tr>\n",
       "    <tr>\n",
       "      <th>1269</th>\n",
       "      <td>3303</td>\n",
       "      <td>article 55: les plans d'aménagements du territ...</td>\n",
       "      <td>Not Zone</td>\n",
       "      <td>0</td>\n",
       "    </tr>\n",
       "    <tr>\n",
       "      <th>1270</th>\n",
       "      <td>15505</td>\n",
       "      <td>article 78 : mesures de sécurité pour les navi...</td>\n",
       "      <td>Not Zone</td>\n",
       "      <td>0</td>\n",
       "    </tr>\n",
       "    <tr>\n",
       "      <th>1271</th>\n",
       "      <td>11514</td>\n",
       "      <td>article 9.- le conseil de surveillance se réun...</td>\n",
       "      <td>Not Zone</td>\n",
       "      <td>0</td>\n",
       "    </tr>\n",
       "  </tbody>\n",
       "</table>\n",
       "<p>1272 rows × 4 columns</p>\n",
       "</div>"
      ],
      "text/plain": [
       "         id                                            article     label  Zone\n",
       "0     10909  article 7. - le conseil des professeurs il est...  Not Zone     0\n",
       "1       571  article 3. — les ouvrages ou installations son...  Not Zone     0\n",
       "2     10509  article l. 365-1. - la responsabilité civile o...  Not Zone     0\n",
       "3      2572  article 23. le conseil d'administration ne peu...  Not Zone     0\n",
       "4        36  article 14. - sur la base du compte rendu de r...  Not Zone     0\n",
       "...     ...                                                ...       ...   ...\n",
       "1267  12800  article 4 : les limites des aires centrales so...      Zone     1\n",
       "1268   4948  article 3. - la directrice de la nature et des...      Zone     1\n",
       "1269   3303  article 55: les plans d'aménagements du territ...  Not Zone     0\n",
       "1270  15505  article 78 : mesures de sécurité pour les navi...  Not Zone     0\n",
       "1271  11514  article 9.- le conseil de surveillance se réun...  Not Zone     0\n",
       "\n",
       "[1272 rows x 4 columns]"
      ]
     },
     "execution_count": 5,
     "metadata": {},
     "output_type": "execute_result"
    }
   ],
   "source": [
    "df['Zone'] = df['label'].apply(lambda x: 1 if x=='Zone' else 0)\n",
    "df"
   ]
  },
  {
   "cell_type": "code",
   "execution_count": 6,
   "metadata": {},
   "outputs": [
    {
     "data": {
      "text/plain": [
       "984     article 2 la ligne de base à partir de laquell...\n",
       "407     article 25 : 1 - les dispositions législatives...\n",
       "1063    article 11. les terrains au sud du bassin-cana...\n",
       "943     article 11. — la laisse de basse mer des îles ...\n",
       "Name: article, dtype: object"
      ]
     },
     "execution_count": 6,
     "metadata": {},
     "output_type": "execute_result"
    }
   ],
   "source": [
    "from sklearn.model_selection import train_test_split\n",
    "X_train, X_test, y_train, y_test = train_test_split(df['article'], df['Zone'], stratify=df['Zone'])\n",
    "X_train.head(4)"
   ]
  },
  {
   "cell_type": "code",
   "execution_count": 7,
   "metadata": {},
   "outputs": [
    {
     "data": {
      "text/plain": [
       "((954,), (318,), (954,), (318,))"
      ]
     },
     "execution_count": 7,
     "metadata": {},
     "output_type": "execute_result"
    }
   ],
   "source": [
    "X_train.shape, X_test.shape, y_train.shape, y_test.shape"
   ]
  },
  {
   "cell_type": "code",
   "execution_count": 8,
   "metadata": {},
   "outputs": [
    {
     "name": "stdout",
     "output_type": "stream",
     "text": [
      "Collecting tensorflow-text"
     ]
    },
    {
     "name": "stderr",
     "output_type": "stream",
     "text": [
      "WARNING: Retrying (Retry(total=4, connect=None, read=None, redirect=None, status=None)) after connection broken by 'ProtocolError('Connection aborted.', ConnectionResetError(10054, 'An existing connection was forcibly closed by the remote host', None, 10054, None))': /simple/tensorflow-text/\n",
      "WARNING: Retrying (Retry(total=3, connect=None, read=None, redirect=None, status=None)) after connection broken by 'ReadTimeoutError(\"HTTPSConnectionPool(host='pypi.org', port=443): Read timed out. (read timeout=15)\")': /simple/tensorflow-text/\n",
      "WARNING: Retrying (Retry(total=2, connect=None, read=None, redirect=None, status=None)) after connection broken by 'ReadTimeoutError(\"HTTPSConnectionPool(host='pypi.org', port=443): Read timed out. (read timeout=15)\")': /simple/tensorflow-text/\n",
      "ERROR: Exception:\n",
      "Traceback (most recent call last):\n",
      "  File \"C:\\Users\\BOOR\\AppData\\Roaming\\Python\\Python310\\site-packages\\pip\\_vendor\\urllib3\\response.py\", line 437, in _error_catcher\n",
      "    yield\n",
      "  File \"C:\\Users\\BOOR\\AppData\\Roaming\\Python\\Python310\\site-packages\\pip\\_vendor\\urllib3\\response.py\", line 560, in read\n",
      "    data = self._fp_read(amt) if not fp_closed else b\"\"\n",
      "  File \"C:\\Users\\BOOR\\AppData\\Roaming\\Python\\Python310\\site-packages\\pip\\_vendor\\urllib3\\response.py\", line 526, in _fp_read\n",
      "    return self._fp.read(amt) if amt is not None else self._fp.read()\n",
      "  File \"C:\\Users\\BOOR\\AppData\\Roaming\\Python\\Python310\\site-packages\\pip\\_vendor\\cachecontrol\\filewrapper.py\", line 90, in read\n",
      "    data = self.__fp.read(amt)\n",
      "  File \"C:\\Python310\\lib\\http\\client.py\", line 465, in read\n",
      "    s = self.fp.read(amt)\n",
      "  File \"C:\\Python310\\lib\\socket.py\", line 705, in readinto\n",
      "    return self._sock.recv_into(b)\n",
      "  File \"C:\\Python310\\lib\\ssl.py\", line 1273, in recv_into\n",
      "    return self.read(nbytes, buffer)\n",
      "  File \"C:\\Python310\\lib\\ssl.py\", line 1129, in read\n",
      "    return self._sslobj.read(len, buffer)\n",
      "TimeoutError: The read operation timed out\n",
      "\n",
      "During handling of the above exception, another exception occurred:\n",
      "\n",
      "Traceback (most recent call last):\n",
      "  File \"C:\\Users\\BOOR\\AppData\\Roaming\\Python\\Python310\\site-packages\\pip\\_internal\\cli\\base_command.py\", line 160, in exc_logging_wrapper\n",
      "    status = run_func(*args)\n",
      "  File \"C:\\Users\\BOOR\\AppData\\Roaming\\Python\\Python310\\site-packages\\pip\\_internal\\cli\\req_command.py\", line 247, in wrapper\n",
      "    return func(self, options, args)\n",
      "  File \"C:\\Users\\BOOR\\AppData\\Roaming\\Python\\Python310\\site-packages\\pip\\_internal\\commands\\install.py\", line 400, in run\n",
      "    requirement_set = resolver.resolve(\n",
      "  File \"C:\\Users\\BOOR\\AppData\\Roaming\\Python\\Python310\\site-packages\\pip\\_internal\\resolution\\resolvelib\\resolver.py\", line 92, in resolve\n",
      "    result = self._result = resolver.resolve(\n",
      "  File \"C:\\Users\\BOOR\\AppData\\Roaming\\Python\\Python310\\site-packages\\pip\\_vendor\\resolvelib\\resolvers.py\", line 481, in resolve\n",
      "    state = resolution.resolve(requirements, max_rounds=max_rounds)\n",
      "  File \"C:\\Users\\BOOR\\AppData\\Roaming\\Python\\Python310\\site-packages\\pip\\_vendor\\resolvelib\\resolvers.py\", line 348, in resolve\n",
      "    self._add_to_criteria(self.state.criteria, r, parent=None)\n",
      "  File \"C:\\Users\\BOOR\\AppData\\Roaming\\Python\\Python310\\site-packages\\pip\\_vendor\\resolvelib\\resolvers.py\", line 172, in _add_to_criteria\n",
      "    if not criterion.candidates:\n",
      "  File \"C:\\Users\\BOOR\\AppData\\Roaming\\Python\\Python310\\site-packages\\pip\\_vendor\\resolvelib\\structs.py\", line 151, in __bool__\n",
      "    return bool(self._sequence)\n",
      "  File \"C:\\Users\\BOOR\\AppData\\Roaming\\Python\\Python310\\site-packages\\pip\\_internal\\resolution\\resolvelib\\found_candidates.py\", line 155, in __bool__\n",
      "    return any(self)\n",
      "  File \"C:\\Users\\BOOR\\AppData\\Roaming\\Python\\Python310\\site-packages\\pip\\_internal\\resolution\\resolvelib\\found_candidates.py\", line 143, in <genexpr>\n",
      "    return (c for c in iterator if id(c) not in self._incompatible_ids)\n",
      "  File \"C:\\Users\\BOOR\\AppData\\Roaming\\Python\\Python310\\site-packages\\pip\\_internal\\resolution\\resolvelib\\found_candidates.py\", line 47, in _iter_built\n",
      "    candidate = func()\n",
      "  File \"C:\\Users\\BOOR\\AppData\\Roaming\\Python\\Python310\\site-packages\\pip\\_internal\\resolution\\resolvelib\\factory.py\", line 206, in _make_candidate_from_link\n",
      "    self._link_candidate_cache[link] = LinkCandidate(\n",
      "  File \"C:\\Users\\BOOR\\AppData\\Roaming\\Python\\Python310\\site-packages\\pip\\_internal\\resolution\\resolvelib\\candidates.py\", line 297, in __init__\n",
      "    super().__init__(\n",
      "  File \"C:\\Users\\BOOR\\AppData\\Roaming\\Python\\Python310\\site-packages\\pip\\_internal\\resolution\\resolvelib\\candidates.py\", line 162, in __init__\n",
      "    self.dist = self._prepare()\n",
      "  File \"C:\\Users\\BOOR\\AppData\\Roaming\\Python\\Python310\\site-packages\\pip\\_internal\\resolution\\resolvelib\\candidates.py\", line 231, in _prepare\n",
      "    dist = self._prepare_distribution()\n",
      "  File \"C:\\Users\\BOOR\\AppData\\Roaming\\Python\\Python310\\site-packages\\pip\\_internal\\resolution\\resolvelib\\candidates.py\", line 308, in _prepare_distribution\n",
      "    return preparer.prepare_linked_requirement(self._ireq, parallel_builds=True)\n",
      "  File \"C:\\Users\\BOOR\\AppData\\Roaming\\Python\\Python310\\site-packages\\pip\\_internal\\operations\\prepare.py\", line 491, in prepare_linked_requirement\n",
      "    return self._prepare_linked_requirement(req, parallel_builds)\n",
      "  File \"C:\\Users\\BOOR\\AppData\\Roaming\\Python\\Python310\\site-packages\\pip\\_internal\\operations\\prepare.py\", line 536, in _prepare_linked_requirement\n",
      "    local_file = unpack_url(\n",
      "  File \"C:\\Users\\BOOR\\AppData\\Roaming\\Python\\Python310\\site-packages\\pip\\_internal\\operations\\prepare.py\", line 166, in unpack_url\n",
      "    file = get_http_url(\n",
      "  File \"C:\\Users\\BOOR\\AppData\\Roaming\\Python\\Python310\\site-packages\\pip\\_internal\\operations\\prepare.py\", line 107, in get_http_url"
     ]
    },
    {
     "name": "stdout",
     "output_type": "stream",
     "text": [
      "\n",
      "  Downloading tensorflow_text-2.10.0-cp310-cp310-win_amd64.whl (5.0 MB)\n",
      "     --                                       0.3/5.0 MB 32.5 kB/s eta 0:02:25\n"
     ]
    },
    {
     "name": "stderr",
     "output_type": "stream",
     "text": [
      "\n",
      "    from_path, content_type = download(link, temp_dir.path)\n",
      "  File \"C:\\Users\\BOOR\\AppData\\Roaming\\Python\\Python310\\site-packages\\pip\\_internal\\network\\download.py\", line 147, in __call__\n",
      "    for chunk in chunks:\n",
      "  File \"C:\\Users\\BOOR\\AppData\\Roaming\\Python\\Python310\\site-packages\\pip\\_internal\\cli\\progress_bars.py\", line 53, in _rich_progress_bar\n",
      "    for chunk in iterable:\n",
      "  File \"C:\\Users\\BOOR\\AppData\\Roaming\\Python\\Python310\\site-packages\\pip\\_internal\\network\\utils.py\", line 63, in response_chunks\n",
      "    for chunk in response.raw.stream(\n",
      "  File \"C:\\Users\\BOOR\\AppData\\Roaming\\Python\\Python310\\site-packages\\pip\\_vendor\\urllib3\\response.py\", line 621, in stream\n",
      "    data = self.read(amt=amt, decode_content=decode_content)\n",
      "  File \"C:\\Users\\BOOR\\AppData\\Roaming\\Python\\Python310\\site-packages\\pip\\_vendor\\urllib3\\response.py\", line 559, in read\n",
      "    with self._error_catcher():\n",
      "  File \"C:\\Python310\\lib\\contextlib.py\", line 153, in __exit__\n",
      "    self.gen.throw(typ, value, traceback)\n",
      "  File \"C:\\Users\\BOOR\\AppData\\Roaming\\Python\\Python310\\site-packages\\pip\\_vendor\\urllib3\\response.py\", line 442, in _error_catcher\n",
      "    raise ReadTimeoutError(self._pool, None, \"Read timed out.\")\n",
      "pip._vendor.urllib3.exceptions.ReadTimeoutError: HTTPSConnectionPool(host='files.pythonhosted.org', port=443): Read timed out.\n"
     ]
    }
   ],
   "source": [
    "# !pip install tensorflow-text"
   ]
  },
  {
   "cell_type": "code",
   "execution_count": 10,
   "metadata": {},
   "outputs": [
    {
     "name": "stdout",
     "output_type": "stream",
     "text": [
      "Collecting tensorflow-hub\n",
      "  Downloading tensorflow_hub-0.12.0-py2.py3-none-any.whl (108 kB)\n",
      "     ------------------------------------ 108.8/108.8 kB 896.1 kB/s eta 0:00:00\n",
      "Requirement already satisfied: numpy>=1.12.0 in c:\\python310\\lib\\site-packages (from tensorflow-hub) (1.22.4)\n",
      "Requirement already satisfied: protobuf>=3.8.0 in c:\\users\\boor\\appdata\\roaming\\python\\python310\\site-packages (from tensorflow-hub) (4.21.10)\n",
      "Installing collected packages: tensorflow-hub\n"
     ]
    },
    {
     "name": "stderr",
     "output_type": "stream",
     "text": [
      "  WARNING: Failed to write executable - trying to use .deleteme logic\n",
      "ERROR: Could not install packages due to an OSError: [WinError 2] The system cannot find the file specified: 'C:\\\\Python310\\\\Scripts\\\\make_image_classifier.exe' -> 'C:\\\\Python310\\\\Scripts\\\\make_image_classifier.exe.deleteme'\n",
      "\n"
     ]
    }
   ],
   "source": [
    "# !pip install tensorflow-hub"
   ]
  },
  {
   "cell_type": "code",
   "execution_count": 19,
   "metadata": {
    "scrolled": true
   },
   "outputs": [
    {
     "ename": "ImportError",
     "evalue": "cannot import name 'keras' from 'tensorflow_text.python' (C:\\Users\\BOOR\\AppData\\Roaming\\Python\\Python39\\site-packages\\tensorflow_text\\python\\__init__.py)",
     "output_type": "error",
     "traceback": [
      "\u001b[1;31m---------------------------------------------------------------------------\u001b[0m",
      "\u001b[1;31mImportError\u001b[0m                               Traceback (most recent call last)",
      "Input \u001b[1;32mIn [19]\u001b[0m, in \u001b[0;36m<cell line: 3>\u001b[1;34m()\u001b[0m\n\u001b[0;32m      1\u001b[0m \u001b[38;5;28;01mimport\u001b[39;00m \u001b[38;5;21;01mtensorflow_hub\u001b[39;00m \u001b[38;5;28;01mas\u001b[39;00m \u001b[38;5;21;01mhub\u001b[39;00m\n\u001b[0;32m      2\u001b[0m \u001b[38;5;28;01mimport\u001b[39;00m \u001b[38;5;21;01mtensorflow\u001b[39;00m \u001b[38;5;28;01mas\u001b[39;00m \u001b[38;5;21;01mtf\u001b[39;00m\n\u001b[1;32m----> 3\u001b[0m \u001b[38;5;28;01mimport\u001b[39;00m \u001b[38;5;21;01mtensorflow_text\u001b[39;00m \u001b[38;5;28;01mas\u001b[39;00m \u001b[38;5;21;01mtext\u001b[39;00m\n",
      "File \u001b[1;32m~\\Anaconda3\\lib\\site-packages\\tensorflow_text\\__init__.py:21\u001b[0m, in \u001b[0;36m<module>\u001b[1;34m\u001b[0m\n\u001b[0;32m     19\u001b[0m \u001b[38;5;66;03m# pylint: disable=wildcard-import\u001b[39;00m\n\u001b[0;32m     20\u001b[0m \u001b[38;5;28;01mfrom\u001b[39;00m \u001b[38;5;21;01mtensorflow_text\u001b[39;00m\u001b[38;5;21;01m.\u001b[39;00m\u001b[38;5;21;01mcore\u001b[39;00m\u001b[38;5;21;01m.\u001b[39;00m\u001b[38;5;21;01mpybinds\u001b[39;00m \u001b[38;5;28;01mimport\u001b[39;00m tflite_registrar\n\u001b[1;32m---> 21\u001b[0m \u001b[38;5;28;01mfrom\u001b[39;00m \u001b[38;5;21;01mtensorflow_text\u001b[39;00m\u001b[38;5;21;01m.\u001b[39;00m\u001b[38;5;21;01mpython\u001b[39;00m \u001b[38;5;28;01mimport\u001b[39;00m keras\n\u001b[0;32m     22\u001b[0m \u001b[38;5;28;01mfrom\u001b[39;00m \u001b[38;5;21;01mtensorflow_text\u001b[39;00m\u001b[38;5;21;01m.\u001b[39;00m\u001b[38;5;21;01mpython\u001b[39;00m \u001b[38;5;28;01mimport\u001b[39;00m metrics\n\u001b[0;32m     23\u001b[0m \u001b[38;5;28;01mfrom\u001b[39;00m \u001b[38;5;21;01mtensorflow_text\u001b[39;00m\u001b[38;5;21;01m.\u001b[39;00m\u001b[38;5;21;01mpython\u001b[39;00m\u001b[38;5;21;01m.\u001b[39;00m\u001b[38;5;21;01mops\u001b[39;00m \u001b[38;5;28;01mimport\u001b[39;00m \u001b[38;5;241m*\u001b[39m\n",
      "\u001b[1;31mImportError\u001b[0m: cannot import name 'keras' from 'tensorflow_text.python' (C:\\Users\\BOOR\\AppData\\Roaming\\Python\\Python39\\site-packages\\tensorflow_text\\python\\__init__.py)"
     ]
    }
   ],
   "source": [
    "import tensorflow_hub as hub\n",
    "import tensorflow as tf\n",
    "import tensorflow_text as text"
   ]
  },
  {
   "cell_type": "code",
   "execution_count": 4,
   "metadata": {},
   "outputs": [
    {
     "name": "stdout",
     "output_type": "stream",
     "text": [
      "WARNING:tensorflow:Please fix your imports. Module tensorflow.python.training.tracking.data_structures has been moved to tensorflow.python.trackable.data_structures. The old module will be deleted in version 2.11.\n"
     ]
    }
   ],
   "source": [
    "bert_preprocess = hub.KerasLayer(\"https://tfhub.dev/tensorflow/bert_en_uncased_preprocess/3\")\n",
    "bert_encoder = hub.KerasLayer(\"https://tfhub.dev/tensorflow/bert_en_uncased_L-12_H-768_A-12/4\")"
   ]
  },
  {
   "cell_type": "code",
   "execution_count": 10,
   "metadata": {},
   "outputs": [],
   "source": [
    "# Bert layers\n",
    "text_input = tf.keras.layers.Input(shape=(), dtype=tf.string, name='text')\n",
    "preprocessed_text = bert_preprocess(text_input)\n",
    "outputs = bert_encoder(preprocessed_text)"
   ]
  },
  {
   "cell_type": "code",
   "execution_count": 11,
   "metadata": {},
   "outputs": [],
   "source": [
    "# Neural network layers\n",
    "l = tf.keras.layers.Dropout(0.1, name=\"dropout\")(outputs['pooled_output'])\n",
    "l = tf.keras.layers.Dense(1, activation='sigmoid', name=\"output\")(l)\n",
    "# Use inputs and outputs to construct a final model\n",
    "model = tf.keras.Model(inputs=[text_input], outputs = [l])"
   ]
  },
  {
   "cell_type": "code",
   "execution_count": 13,
   "metadata": {},
   "outputs": [
    {
     "name": "stdout",
     "output_type": "stream",
     "text": [
      "Epoch 1/1000\n",
      "30/30 [==============================] - 216s 7s/step - loss: 0.6147 - accuracy: 0.6709\n",
      "Epoch 2/1000\n",
      "30/30 [==============================] - 215s 7s/step - loss: 0.5932 - accuracy: 0.6908\n",
      "Epoch 3/1000\n",
      "30/30 [==============================] - 218s 7s/step - loss: 0.5805 - accuracy: 0.6845\n",
      "Epoch 4/1000\n",
      "30/30 [==============================] - 216s 7s/step - loss: 0.5536 - accuracy: 0.7338\n",
      "Epoch 5/1000\n",
      "30/30 [==============================] - 213s 7s/step - loss: 0.5336 - accuracy: 0.7400\n",
      "Epoch 6/1000\n",
      "30/30 [==============================] - 215s 7s/step - loss: 0.5259 - accuracy: 0.7495\n",
      "Epoch 7/1000\n",
      "30/30 [==============================] - 212s 7s/step - loss: 0.5191 - accuracy: 0.7589\n",
      "Epoch 8/1000\n",
      "30/30 [==============================] - 218s 7s/step - loss: 0.5032 - accuracy: 0.7736\n",
      "Epoch 9/1000\n",
      "30/30 [==============================] - 211s 7s/step - loss: 0.5026 - accuracy: 0.7505\n",
      "Epoch 10/1000\n",
      "30/30 [==============================] - 210s 7s/step - loss: 0.4831 - accuracy: 0.7820\n",
      "Epoch 11/1000\n",
      "30/30 [==============================] - 211s 7s/step - loss: 0.4780 - accuracy: 0.7925\n",
      "Epoch 12/1000\n",
      "30/30 [==============================] - 203s 7s/step - loss: 0.4790 - accuracy: 0.7851\n",
      "Epoch 13/1000\n",
      "30/30 [==============================] - 212s 7s/step - loss: 0.4643 - accuracy: 0.7987\n",
      "Epoch 14/1000\n",
      "30/30 [==============================] - 212s 7s/step - loss: 0.4667 - accuracy: 0.8040\n",
      "Epoch 15/1000\n",
      "30/30 [==============================] - 212s 7s/step - loss: 0.4527 - accuracy: 0.8092\n",
      "Epoch 16/1000\n",
      "30/30 [==============================] - 206s 7s/step - loss: 0.4440 - accuracy: 0.8145\n",
      "Epoch 17/1000\n",
      "30/30 [==============================] - 209s 7s/step - loss: 0.4513 - accuracy: 0.8050\n",
      "Epoch 18/1000\n",
      "30/30 [==============================] - 207s 7s/step - loss: 0.4395 - accuracy: 0.8061\n",
      "Epoch 19/1000\n",
      "30/30 [==============================] - 208s 7s/step - loss: 0.4263 - accuracy: 0.8260\n",
      "Epoch 20/1000\n",
      "30/30 [==============================] - 210s 7s/step - loss: 0.4324 - accuracy: 0.8218\n",
      "Epoch 21/1000\n",
      "30/30 [==============================] - 212s 7s/step - loss: 0.4225 - accuracy: 0.8197\n",
      "Epoch 22/1000\n",
      "30/30 [==============================] - 213s 7s/step - loss: 0.4204 - accuracy: 0.8312\n",
      "Epoch 23/1000\n",
      "30/30 [==============================] - 209s 7s/step - loss: 0.4150 - accuracy: 0.8260\n",
      "Epoch 24/1000\n",
      "30/30 [==============================] - 217s 7s/step - loss: 0.4177 - accuracy: 0.8218\n",
      "Epoch 25/1000\n",
      "30/30 [==============================] - 213s 7s/step - loss: 0.4076 - accuracy: 0.8323\n",
      "Epoch 26/1000\n",
      "30/30 [==============================] - 218s 7s/step - loss: 0.4100 - accuracy: 0.8396\n",
      "Epoch 27/1000\n",
      "30/30 [==============================] - 221s 7s/step - loss: 0.4061 - accuracy: 0.8333\n",
      "Epoch 28/1000\n",
      "30/30 [==============================] - 208s 7s/step - loss: 0.4081 - accuracy: 0.8166\n",
      "Epoch 29/1000\n",
      "30/30 [==============================] - 206s 7s/step - loss: 0.4004 - accuracy: 0.8375\n",
      "Epoch 30/1000\n",
      "30/30 [==============================] - 210s 7s/step - loss: 0.4001 - accuracy: 0.8354\n",
      "Epoch 31/1000\n",
      "30/30 [==============================] - 209s 7s/step - loss: 0.3907 - accuracy: 0.8396\n",
      "Epoch 32/1000\n",
      "30/30 [==============================] - 211s 7s/step - loss: 0.3920 - accuracy: 0.8428\n",
      "Epoch 33/1000\n",
      "30/30 [==============================] - 207s 7s/step - loss: 0.4113 - accuracy: 0.8176\n",
      "Epoch 34/1000\n",
      "30/30 [==============================] - 204s 7s/step - loss: 0.3912 - accuracy: 0.8333\n",
      "Epoch 35/1000\n",
      "30/30 [==============================] - 205s 7s/step - loss: 0.3910 - accuracy: 0.8512\n",
      "Epoch 36/1000\n",
      "30/30 [==============================] - 204s 7s/step - loss: 0.3819 - accuracy: 0.8428\n",
      "Epoch 37/1000\n",
      "30/30 [==============================] - 201s 7s/step - loss: 0.3903 - accuracy: 0.8375\n",
      "Epoch 38/1000\n",
      "30/30 [==============================] - 197s 7s/step - loss: 0.3872 - accuracy: 0.8396\n",
      "Epoch 39/1000\n",
      "30/30 [==============================] - 201s 7s/step - loss: 0.3879 - accuracy: 0.8480\n",
      "Epoch 40/1000\n",
      "30/30 [==============================] - 203s 7s/step - loss: 0.3769 - accuracy: 0.8501\n",
      "Epoch 41/1000\n",
      "30/30 [==============================] - 207s 7s/step - loss: 0.3684 - accuracy: 0.8501\n",
      "Epoch 42/1000\n",
      "30/30 [==============================] - 210s 7s/step - loss: 0.3716 - accuracy: 0.8480\n",
      "Epoch 43/1000\n",
      "30/30 [==============================] - 212s 7s/step - loss: 0.3696 - accuracy: 0.8501\n",
      "Epoch 44/1000\n",
      "30/30 [==============================] - 208s 7s/step - loss: 0.3674 - accuracy: 0.8501\n",
      "Epoch 45/1000\n",
      "30/30 [==============================] - 208s 7s/step - loss: 0.3736 - accuracy: 0.8480\n",
      "Epoch 46/1000\n",
      "30/30 [==============================] - 207s 7s/step - loss: 0.3721 - accuracy: 0.8564\n",
      "Epoch 47/1000\n",
      "30/30 [==============================] - 207s 7s/step - loss: 0.3681 - accuracy: 0.8470\n",
      "Epoch 48/1000\n",
      "30/30 [==============================] - 208s 7s/step - loss: 0.3764 - accuracy: 0.8491\n",
      "Epoch 49/1000\n",
      "30/30 [==============================] - 209s 7s/step - loss: 0.3729 - accuracy: 0.8532\n",
      "Epoch 50/1000\n",
      "30/30 [==============================] - 226s 8s/step - loss: 0.3664 - accuracy: 0.8491\n",
      "Epoch 51/1000\n",
      "30/30 [==============================] - 221s 7s/step - loss: 0.3628 - accuracy: 0.8512\n",
      "Epoch 52/1000\n",
      "30/30 [==============================] - 219s 7s/step - loss: 0.3580 - accuracy: 0.8585\n",
      "Epoch 53/1000\n",
      "30/30 [==============================] - 221s 7s/step - loss: 0.3581 - accuracy: 0.8491\n",
      "Epoch 54/1000\n",
      "30/30 [==============================] - 220s 7s/step - loss: 0.3541 - accuracy: 0.8595\n",
      "Epoch 55/1000\n",
      "30/30 [==============================] - 220s 7s/step - loss: 0.3552 - accuracy: 0.8574\n",
      "Epoch 56/1000\n",
      "30/30 [==============================] - 221s 7s/step - loss: 0.3750 - accuracy: 0.8522\n",
      "Epoch 57/1000\n",
      "30/30 [==============================] - 217s 7s/step - loss: 0.3609 - accuracy: 0.8616\n",
      "Epoch 58/1000\n",
      "30/30 [==============================] - 220s 7s/step - loss: 0.3633 - accuracy: 0.8470\n",
      "Epoch 59/1000\n",
      "30/30 [==============================] - 217s 7s/step - loss: 0.3614 - accuracy: 0.8585\n",
      "Epoch 60/1000\n",
      "30/30 [==============================] - 222s 7s/step - loss: 0.3594 - accuracy: 0.8449\n",
      "Epoch 61/1000\n",
      "30/30 [==============================] - 219s 7s/step - loss: 0.3541 - accuracy: 0.8564\n",
      "Epoch 62/1000\n",
      "30/30 [==============================] - 218s 7s/step - loss: 0.3548 - accuracy: 0.8606\n",
      "Epoch 63/1000\n",
      "30/30 [==============================] - 220s 7s/step - loss: 0.3527 - accuracy: 0.8522\n",
      "Epoch 64/1000\n",
      "30/30 [==============================] - 227s 8s/step - loss: 0.3558 - accuracy: 0.8679\n",
      "Epoch 65/1000\n",
      "30/30 [==============================] - 223s 7s/step - loss: 0.3501 - accuracy: 0.8616\n",
      "Epoch 66/1000\n",
      "30/30 [==============================] - 221s 7s/step - loss: 0.3448 - accuracy: 0.8732\n",
      "Epoch 67/1000\n",
      "30/30 [==============================] - 232s 8s/step - loss: 0.3539 - accuracy: 0.8512\n",
      "Epoch 68/1000\n",
      "30/30 [==============================] - 229s 8s/step - loss: 0.3429 - accuracy: 0.8616\n",
      "Epoch 69/1000\n",
      "30/30 [==============================] - 222s 7s/step - loss: 0.3442 - accuracy: 0.8648\n",
      "Epoch 70/1000\n",
      "30/30 [==============================] - 224s 7s/step - loss: 0.3448 - accuracy: 0.8595\n",
      "Epoch 71/1000\n",
      "30/30 [==============================] - 228s 8s/step - loss: 0.3455 - accuracy: 0.8532\n",
      "Epoch 72/1000\n",
      "30/30 [==============================] - 226s 8s/step - loss: 0.3481 - accuracy: 0.8532\n",
      "Epoch 73/1000\n",
      "30/30 [==============================] - 212s 7s/step - loss: 0.3444 - accuracy: 0.8585\n",
      "Epoch 74/1000\n",
      "30/30 [==============================] - 210s 7s/step - loss: 0.3384 - accuracy: 0.8543\n",
      "Epoch 75/1000\n",
      " 9/30 [========>.....................] - ETA: 2:38 - loss: 0.3627 - accuracy: 0.8542"
     ]
    },
    {
     "ename": "KeyboardInterrupt",
     "evalue": "",
     "output_type": "error",
     "traceback": [
      "\u001b[1;31m---------------------------------------------------------------------------\u001b[0m",
      "\u001b[1;31mKeyboardInterrupt\u001b[0m                         Traceback (most recent call last)",
      "Cell \u001b[1;32mIn[13], line 2\u001b[0m\n\u001b[0;32m      1\u001b[0m model\u001b[39m.\u001b[39mcompile(optimizer\u001b[39m=\u001b[39m\u001b[39m'\u001b[39m\u001b[39madam\u001b[39m\u001b[39m'\u001b[39m, loss\u001b[39m=\u001b[39m\u001b[39m'\u001b[39m\u001b[39mbinary_crossentropy\u001b[39m\u001b[39m'\u001b[39m, metrics\u001b[39m=\u001b[39m[\u001b[39m'\u001b[39m\u001b[39maccuracy\u001b[39m\u001b[39m'\u001b[39m])\n\u001b[1;32m----> 2\u001b[0m model\u001b[39m.\u001b[39;49mfit(X_train, y_train, epochs\u001b[39m=\u001b[39;49m\u001b[39m1000\u001b[39;49m, batch_size \u001b[39m=\u001b[39;49m \u001b[39m32\u001b[39;49m)\n",
      "File \u001b[1;32mc:\\Users\\amzil\\AppData\\Local\\Programs\\Python\\Python310\\lib\\site-packages\\keras\\utils\\traceback_utils.py:65\u001b[0m, in \u001b[0;36mfilter_traceback.<locals>.error_handler\u001b[1;34m(*args, **kwargs)\u001b[0m\n\u001b[0;32m     63\u001b[0m filtered_tb \u001b[39m=\u001b[39m \u001b[39mNone\u001b[39;00m\n\u001b[0;32m     64\u001b[0m \u001b[39mtry\u001b[39;00m:\n\u001b[1;32m---> 65\u001b[0m     \u001b[39mreturn\u001b[39;00m fn(\u001b[39m*\u001b[39margs, \u001b[39m*\u001b[39m\u001b[39m*\u001b[39mkwargs)\n\u001b[0;32m     66\u001b[0m \u001b[39mexcept\u001b[39;00m \u001b[39mException\u001b[39;00m \u001b[39mas\u001b[39;00m e:\n\u001b[0;32m     67\u001b[0m     filtered_tb \u001b[39m=\u001b[39m _process_traceback_frames(e\u001b[39m.\u001b[39m__traceback__)\n",
      "File \u001b[1;32mc:\\Users\\amzil\\AppData\\Local\\Programs\\Python\\Python310\\lib\\site-packages\\keras\\engine\\training.py:1564\u001b[0m, in \u001b[0;36mModel.fit\u001b[1;34m(self, x, y, batch_size, epochs, verbose, callbacks, validation_split, validation_data, shuffle, class_weight, sample_weight, initial_epoch, steps_per_epoch, validation_steps, validation_batch_size, validation_freq, max_queue_size, workers, use_multiprocessing)\u001b[0m\n\u001b[0;32m   1556\u001b[0m \u001b[39mwith\u001b[39;00m tf\u001b[39m.\u001b[39mprofiler\u001b[39m.\u001b[39mexperimental\u001b[39m.\u001b[39mTrace(\n\u001b[0;32m   1557\u001b[0m     \u001b[39m\"\u001b[39m\u001b[39mtrain\u001b[39m\u001b[39m\"\u001b[39m,\n\u001b[0;32m   1558\u001b[0m     epoch_num\u001b[39m=\u001b[39mepoch,\n\u001b[1;32m   (...)\u001b[0m\n\u001b[0;32m   1561\u001b[0m     _r\u001b[39m=\u001b[39m\u001b[39m1\u001b[39m,\n\u001b[0;32m   1562\u001b[0m ):\n\u001b[0;32m   1563\u001b[0m     callbacks\u001b[39m.\u001b[39mon_train_batch_begin(step)\n\u001b[1;32m-> 1564\u001b[0m     tmp_logs \u001b[39m=\u001b[39m \u001b[39mself\u001b[39;49m\u001b[39m.\u001b[39;49mtrain_function(iterator)\n\u001b[0;32m   1565\u001b[0m     \u001b[39mif\u001b[39;00m data_handler\u001b[39m.\u001b[39mshould_sync:\n\u001b[0;32m   1566\u001b[0m         context\u001b[39m.\u001b[39masync_wait()\n",
      "File \u001b[1;32mc:\\Users\\amzil\\AppData\\Local\\Programs\\Python\\Python310\\lib\\site-packages\\tensorflow\\python\\util\\traceback_utils.py:150\u001b[0m, in \u001b[0;36mfilter_traceback.<locals>.error_handler\u001b[1;34m(*args, **kwargs)\u001b[0m\n\u001b[0;32m    148\u001b[0m filtered_tb \u001b[39m=\u001b[39m \u001b[39mNone\u001b[39;00m\n\u001b[0;32m    149\u001b[0m \u001b[39mtry\u001b[39;00m:\n\u001b[1;32m--> 150\u001b[0m   \u001b[39mreturn\u001b[39;00m fn(\u001b[39m*\u001b[39margs, \u001b[39m*\u001b[39m\u001b[39m*\u001b[39mkwargs)\n\u001b[0;32m    151\u001b[0m \u001b[39mexcept\u001b[39;00m \u001b[39mException\u001b[39;00m \u001b[39mas\u001b[39;00m e:\n\u001b[0;32m    152\u001b[0m   filtered_tb \u001b[39m=\u001b[39m _process_traceback_frames(e\u001b[39m.\u001b[39m__traceback__)\n",
      "File \u001b[1;32mc:\\Users\\amzil\\AppData\\Local\\Programs\\Python\\Python310\\lib\\site-packages\\tensorflow\\python\\eager\\def_function.py:915\u001b[0m, in \u001b[0;36mFunction.__call__\u001b[1;34m(self, *args, **kwds)\u001b[0m\n\u001b[0;32m    912\u001b[0m compiler \u001b[39m=\u001b[39m \u001b[39m\"\u001b[39m\u001b[39mxla\u001b[39m\u001b[39m\"\u001b[39m \u001b[39mif\u001b[39;00m \u001b[39mself\u001b[39m\u001b[39m.\u001b[39m_jit_compile \u001b[39melse\u001b[39;00m \u001b[39m\"\u001b[39m\u001b[39mnonXla\u001b[39m\u001b[39m\"\u001b[39m\n\u001b[0;32m    914\u001b[0m \u001b[39mwith\u001b[39;00m OptionalXlaContext(\u001b[39mself\u001b[39m\u001b[39m.\u001b[39m_jit_compile):\n\u001b[1;32m--> 915\u001b[0m   result \u001b[39m=\u001b[39m \u001b[39mself\u001b[39m\u001b[39m.\u001b[39m_call(\u001b[39m*\u001b[39margs, \u001b[39m*\u001b[39m\u001b[39m*\u001b[39mkwds)\n\u001b[0;32m    917\u001b[0m new_tracing_count \u001b[39m=\u001b[39m \u001b[39mself\u001b[39m\u001b[39m.\u001b[39mexperimental_get_tracing_count()\n\u001b[0;32m    918\u001b[0m without_tracing \u001b[39m=\u001b[39m (tracing_count \u001b[39m==\u001b[39m new_tracing_count)\n",
      "File \u001b[1;32mc:\\Users\\amzil\\AppData\\Local\\Programs\\Python\\Python310\\lib\\site-packages\\tensorflow\\python\\eager\\def_function.py:947\u001b[0m, in \u001b[0;36mFunction._call\u001b[1;34m(self, *args, **kwds)\u001b[0m\n\u001b[0;32m    944\u001b[0m   \u001b[39mself\u001b[39m\u001b[39m.\u001b[39m_lock\u001b[39m.\u001b[39mrelease()\n\u001b[0;32m    945\u001b[0m   \u001b[39m# In this case we have created variables on the first call, so we run the\u001b[39;00m\n\u001b[0;32m    946\u001b[0m   \u001b[39m# defunned version which is guaranteed to never create variables.\u001b[39;00m\n\u001b[1;32m--> 947\u001b[0m   \u001b[39mreturn\u001b[39;00m \u001b[39mself\u001b[39m\u001b[39m.\u001b[39m_stateless_fn(\u001b[39m*\u001b[39margs, \u001b[39m*\u001b[39m\u001b[39m*\u001b[39mkwds)  \u001b[39m# pylint: disable=not-callable\u001b[39;00m\n\u001b[0;32m    948\u001b[0m \u001b[39melif\u001b[39;00m \u001b[39mself\u001b[39m\u001b[39m.\u001b[39m_stateful_fn \u001b[39mis\u001b[39;00m \u001b[39mnot\u001b[39;00m \u001b[39mNone\u001b[39;00m:\n\u001b[0;32m    949\u001b[0m   \u001b[39m# Release the lock early so that multiple threads can perform the call\u001b[39;00m\n\u001b[0;32m    950\u001b[0m   \u001b[39m# in parallel.\u001b[39;00m\n\u001b[0;32m    951\u001b[0m   \u001b[39mself\u001b[39m\u001b[39m.\u001b[39m_lock\u001b[39m.\u001b[39mrelease()\n",
      "File \u001b[1;32mc:\\Users\\amzil\\AppData\\Local\\Programs\\Python\\Python310\\lib\\site-packages\\tensorflow\\python\\eager\\function.py:2496\u001b[0m, in \u001b[0;36mFunction.__call__\u001b[1;34m(self, *args, **kwargs)\u001b[0m\n\u001b[0;32m   2493\u001b[0m \u001b[39mwith\u001b[39;00m \u001b[39mself\u001b[39m\u001b[39m.\u001b[39m_lock:\n\u001b[0;32m   2494\u001b[0m   (graph_function,\n\u001b[0;32m   2495\u001b[0m    filtered_flat_args) \u001b[39m=\u001b[39m \u001b[39mself\u001b[39m\u001b[39m.\u001b[39m_maybe_define_function(args, kwargs)\n\u001b[1;32m-> 2496\u001b[0m \u001b[39mreturn\u001b[39;00m graph_function\u001b[39m.\u001b[39;49m_call_flat(\n\u001b[0;32m   2497\u001b[0m     filtered_flat_args, captured_inputs\u001b[39m=\u001b[39;49mgraph_function\u001b[39m.\u001b[39;49mcaptured_inputs)\n",
      "File \u001b[1;32mc:\\Users\\amzil\\AppData\\Local\\Programs\\Python\\Python310\\lib\\site-packages\\tensorflow\\python\\eager\\function.py:1862\u001b[0m, in \u001b[0;36mConcreteFunction._call_flat\u001b[1;34m(self, args, captured_inputs, cancellation_manager)\u001b[0m\n\u001b[0;32m   1858\u001b[0m possible_gradient_type \u001b[39m=\u001b[39m gradients_util\u001b[39m.\u001b[39mPossibleTapeGradientTypes(args)\n\u001b[0;32m   1859\u001b[0m \u001b[39mif\u001b[39;00m (possible_gradient_type \u001b[39m==\u001b[39m gradients_util\u001b[39m.\u001b[39mPOSSIBLE_GRADIENT_TYPES_NONE\n\u001b[0;32m   1860\u001b[0m     \u001b[39mand\u001b[39;00m executing_eagerly):\n\u001b[0;32m   1861\u001b[0m   \u001b[39m# No tape is watching; skip to running the function.\u001b[39;00m\n\u001b[1;32m-> 1862\u001b[0m   \u001b[39mreturn\u001b[39;00m \u001b[39mself\u001b[39m\u001b[39m.\u001b[39m_build_call_outputs(\u001b[39mself\u001b[39;49m\u001b[39m.\u001b[39;49m_inference_function\u001b[39m.\u001b[39;49mcall(\n\u001b[0;32m   1863\u001b[0m       ctx, args, cancellation_manager\u001b[39m=\u001b[39;49mcancellation_manager))\n\u001b[0;32m   1864\u001b[0m forward_backward \u001b[39m=\u001b[39m \u001b[39mself\u001b[39m\u001b[39m.\u001b[39m_select_forward_and_backward_functions(\n\u001b[0;32m   1865\u001b[0m     args,\n\u001b[0;32m   1866\u001b[0m     possible_gradient_type,\n\u001b[0;32m   1867\u001b[0m     executing_eagerly)\n\u001b[0;32m   1868\u001b[0m forward_function, args_with_tangents \u001b[39m=\u001b[39m forward_backward\u001b[39m.\u001b[39mforward()\n",
      "File \u001b[1;32mc:\\Users\\amzil\\AppData\\Local\\Programs\\Python\\Python310\\lib\\site-packages\\tensorflow\\python\\eager\\function.py:499\u001b[0m, in \u001b[0;36m_EagerDefinedFunction.call\u001b[1;34m(self, ctx, args, cancellation_manager)\u001b[0m\n\u001b[0;32m    497\u001b[0m \u001b[39mwith\u001b[39;00m _InterpolateFunctionError(\u001b[39mself\u001b[39m):\n\u001b[0;32m    498\u001b[0m   \u001b[39mif\u001b[39;00m cancellation_manager \u001b[39mis\u001b[39;00m \u001b[39mNone\u001b[39;00m:\n\u001b[1;32m--> 499\u001b[0m     outputs \u001b[39m=\u001b[39m execute\u001b[39m.\u001b[39;49mexecute(\n\u001b[0;32m    500\u001b[0m         \u001b[39mstr\u001b[39;49m(\u001b[39mself\u001b[39;49m\u001b[39m.\u001b[39;49msignature\u001b[39m.\u001b[39;49mname),\n\u001b[0;32m    501\u001b[0m         num_outputs\u001b[39m=\u001b[39;49m\u001b[39mself\u001b[39;49m\u001b[39m.\u001b[39;49m_num_outputs,\n\u001b[0;32m    502\u001b[0m         inputs\u001b[39m=\u001b[39;49margs,\n\u001b[0;32m    503\u001b[0m         attrs\u001b[39m=\u001b[39;49mattrs,\n\u001b[0;32m    504\u001b[0m         ctx\u001b[39m=\u001b[39;49mctx)\n\u001b[0;32m    505\u001b[0m   \u001b[39melse\u001b[39;00m:\n\u001b[0;32m    506\u001b[0m     outputs \u001b[39m=\u001b[39m execute\u001b[39m.\u001b[39mexecute_with_cancellation(\n\u001b[0;32m    507\u001b[0m         \u001b[39mstr\u001b[39m(\u001b[39mself\u001b[39m\u001b[39m.\u001b[39msignature\u001b[39m.\u001b[39mname),\n\u001b[0;32m    508\u001b[0m         num_outputs\u001b[39m=\u001b[39m\u001b[39mself\u001b[39m\u001b[39m.\u001b[39m_num_outputs,\n\u001b[1;32m   (...)\u001b[0m\n\u001b[0;32m    511\u001b[0m         ctx\u001b[39m=\u001b[39mctx,\n\u001b[0;32m    512\u001b[0m         cancellation_manager\u001b[39m=\u001b[39mcancellation_manager)\n",
      "File \u001b[1;32mc:\\Users\\amzil\\AppData\\Local\\Programs\\Python\\Python310\\lib\\site-packages\\tensorflow\\python\\eager\\execute.py:54\u001b[0m, in \u001b[0;36mquick_execute\u001b[1;34m(op_name, num_outputs, inputs, attrs, ctx, name)\u001b[0m\n\u001b[0;32m     52\u001b[0m \u001b[39mtry\u001b[39;00m:\n\u001b[0;32m     53\u001b[0m   ctx\u001b[39m.\u001b[39mensure_initialized()\n\u001b[1;32m---> 54\u001b[0m   tensors \u001b[39m=\u001b[39m pywrap_tfe\u001b[39m.\u001b[39;49mTFE_Py_Execute(ctx\u001b[39m.\u001b[39;49m_handle, device_name, op_name,\n\u001b[0;32m     55\u001b[0m                                       inputs, attrs, num_outputs)\n\u001b[0;32m     56\u001b[0m \u001b[39mexcept\u001b[39;00m core\u001b[39m.\u001b[39m_NotOkStatusException \u001b[39mas\u001b[39;00m e:\n\u001b[0;32m     57\u001b[0m   \u001b[39mif\u001b[39;00m name \u001b[39mis\u001b[39;00m \u001b[39mnot\u001b[39;00m \u001b[39mNone\u001b[39;00m:\n",
      "\u001b[1;31mKeyboardInterrupt\u001b[0m: "
     ]
    }
   ],
   "source": [
    "model.compile(optimizer='adam', loss='binary_crossentropy', metrics=['accuracy'])\n",
    "model.fit(X_train, y_train, epochs=1000, batch_size = 32)"
   ]
  },
  {
   "cell_type": "code",
   "execution_count": 14,
   "metadata": {},
   "outputs": [
    {
     "name": "stdout",
     "output_type": "stream",
     "text": [
      "10/10 [==============================] - 76s 7s/step\n",
      "[0.96913    0.67042696 0.77385473 0.0607939  0.5891549  0.17392766\n",
      " 0.27682638 0.8551876  0.52685523 0.895029   0.94260514 0.8355156\n",
      " 0.68004596 0.22404698 0.2696047  0.26586172 0.9854815  0.979362\n",
      " 0.48943228 0.85744965 0.8533508  0.05373267 0.21623142 0.08254911\n",
      " 0.842073   0.41673496 0.21431936 0.07068339 0.3892468  0.81716347\n",
      " 0.3884158  0.5314644  0.59008646 0.99309784 0.30643347 0.9891109\n",
      " 0.3453738  0.784895   0.711525   0.96029663 0.94884616 0.09731998\n",
      " 0.895029   0.51257366 0.9014123  0.85473    0.39942375 0.7201206\n",
      " 0.3756973  0.02315357 0.895029   0.2810647  0.8062347  0.05373758\n",
      " 0.8865283  0.64717025 0.64908284 0.7696797  0.6239556  0.06661753\n",
      " 0.9048815  0.95078975 0.8745565  0.2605353  0.9051983  0.94593006\n",
      " 0.07954311 0.2976824  0.1598306  0.24593623 0.28774226 0.8500493\n",
      " 0.47722217 0.09269641 0.01110126 0.29000732 0.9591153  0.17137542\n",
      " 0.15717918 0.8914264  0.9850142  0.7840759  0.17593254 0.32966512\n",
      " 0.9248875  0.07302967 0.9251957  0.9427324  0.99151087 0.29489148\n",
      " 0.32333925 0.10511743 0.6994934  0.13320595 0.673006   0.13514425\n",
      " 0.9168866  0.98659146 0.18512699 0.78870106 0.8625034  0.19112895\n",
      " 0.27400243 0.6025674  0.9444554  0.5675669  0.93293923 0.4679102\n",
      " 0.71729183 0.26903546 0.21565984 0.1535135  0.14951934 0.9486715\n",
      " 0.26157963 0.7805526  0.95498383 0.5159076  0.8549453  0.12166381\n",
      " 0.96577793 0.88892984 0.9854815  0.1101741  0.418781   0.9765189\n",
      " 0.98237145 0.8317099  0.30748844 0.8678702  0.98136497 0.7698179\n",
      " 0.07816888 0.8258315  0.3748064  0.99309784 0.32323548 0.1313301\n",
      " 0.47791734 0.8945805  0.85338837 0.9497073  0.90188706 0.3346929\n",
      " 0.5508173  0.93242174 0.38316026 0.30098495 0.8856111  0.04163846\n",
      " 0.79644996 0.6358195  0.9805217  0.960381   0.11492697 0.23361465\n",
      " 0.33178866 0.4215911  0.979946   0.50096285 0.58313423 0.08081059\n",
      " 0.8230104  0.9730864  0.951778   0.955211   0.2396984  0.3601477\n",
      " 0.3894755  0.8691195  0.89202756 0.6714647  0.87969935 0.20477499\n",
      " 0.8147721  0.8642647  0.8642647  0.7265141  0.53477144 0.20131356\n",
      " 0.14862576 0.24879575 0.9115025  0.21925458 0.6853174  0.9596888\n",
      " 0.9564265  0.3067233  0.18604323 0.98009753 0.9329392  0.3112324\n",
      " 0.5028476  0.45683607 0.883567   0.22191736 0.37554622 0.242058\n",
      " 0.10062098 0.15045688 0.01660158 0.93426776 0.10286117 0.2203194\n",
      " 0.95068157 0.5527198  0.9248098  0.67410237 0.9781088  0.22694616\n",
      " 0.06985375 0.75928605 0.96300495 0.6150334  0.06308767 0.07305733\n",
      " 0.9165355  0.07780474 0.9928479  0.65610725 0.97506046 0.22253655\n",
      " 0.6721857  0.6234633  0.4749804  0.45473728 0.02677326 0.9529514\n",
      " 0.927054   0.3761738  0.28198317 0.42485845 0.29354942 0.05136198\n",
      " 0.52381635 0.27189764 0.84700733 0.9584941  0.8058365  0.18111822\n",
      " 0.05648775 0.71965295 0.15341441 0.4359574  0.44528872 0.96630925\n",
      " 0.06310605 0.9170712  0.84990895 0.78574556 0.9115025  0.41928104\n",
      " 0.9084907  0.16433524 0.20725779 0.23190914 0.04685448 0.9188357\n",
      " 0.39647424 0.47715592 0.84965265 0.32993647 0.1442288  0.28448966\n",
      " 0.85498816 0.16933072 0.04708256 0.20435756 0.08179211 0.9742453\n",
      " 0.96493524 0.98533785 0.27325705 0.20745085 0.99160695 0.6120277\n",
      " 0.98148733 0.34534106 0.7013772  0.05822971 0.15967324 0.05677386\n",
      " 0.9604066  0.9665446  0.97097    0.39652464 0.27123505 0.9528087\n",
      " 0.15884802 0.767176   0.30534276 0.95061725 0.06440043 0.8794245\n",
      " 0.21716912 0.16249129 0.08425111 0.10172483 0.2122532  0.79153955\n",
      " 0.97809786 0.955211   0.16903582 0.891958   0.8578564  0.2372621\n",
      " 0.86820334 0.6301526  0.2288998  0.19809823 0.8612218  0.9408788\n",
      " 0.14315438 0.9566487  0.24223961 0.6029086  0.82484317 0.8066458 ]\n"
     ]
    }
   ],
   "source": [
    "y_predicted = model.predict(X_test)\n",
    "y_predicted = y_predicted.flatten()\n",
    "print(y_predicted)"
   ]
  },
  {
   "cell_type": "code",
   "execution_count": 21,
   "metadata": {},
   "outputs": [
    {
     "name": "stderr",
     "output_type": "stream",
     "text": [
      "WARNING:absl:Found untraced functions such as restored_function_body, restored_function_body, restored_function_body, restored_function_body, restored_function_body while saving (showing 5 of 366). These functions will not be directly callable after loading.\n"
     ]
    },
    {
     "name": "stdout",
     "output_type": "stream",
     "text": [
      "INFO:tensorflow:Assets written to: ram://bb837aab-cbb6-489f-8e80-2f01ac8bf100/assets\n"
     ]
    },
    {
     "name": "stderr",
     "output_type": "stream",
     "text": [
      "INFO:tensorflow:Assets written to: ram://bb837aab-cbb6-489f-8e80-2f01ac8bf100/assets\n"
     ]
    }
   ],
   "source": [
    "import pickle as pk\n",
    "pk.dump(model, open('bert_model.pkl', 'wb'))\n"
   ]
  },
  {
   "cell_type": "code",
   "execution_count": 23,
   "metadata": {},
   "outputs": [],
   "source": [
    "# model = pk.load(open('bert_model.pkl', 'rb'))"
   ]
  },
  {
   "cell_type": "code",
   "execution_count": null,
   "metadata": {},
   "outputs": [],
   "source": []
  }
 ],
 "metadata": {
  "kernelspec": {
   "display_name": "Python 3 (ipykernel)",
   "language": "python",
   "name": "python3"
  },
  "language_info": {
   "codemirror_mode": {
    "name": "ipython",
    "version": 3
   },
   "file_extension": ".py",
   "mimetype": "text/x-python",
   "name": "python",
   "nbconvert_exporter": "python",
   "pygments_lexer": "ipython3",
   "version": "3.9.7"
  },
  "vscode": {
   "interpreter": {
    "hash": "031b9a876b709a6f8693f36d53535c9cb7da3a522d98d16f277d4eb97931d250"
   }
  }
 },
 "nbformat": 4,
 "nbformat_minor": 2
}
